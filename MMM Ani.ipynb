{
  "nbformat": 4,
  "nbformat_minor": 0,
  "metadata": {
    "kernelspec": {
      "display_name": "Python 3",
      "language": "python",
      "name": "python3"
    },
    "language_info": {
      "codemirror_mode": {
        "name": "ipython",
        "version": 3
      },
      "file_extension": ".py",
      "mimetype": "text/x-python",
      "name": "python",
      "nbconvert_exporter": "python",
      "pygments_lexer": "ipython3",
      "version": "3.7.4"
    },
    "colab": {
      "name": "MMM.ipynb",
      "provenance": [],
      "collapsed_sections": []
    }
  },
  "cells": [
    {
      "cell_type": "code",
      "metadata": {
        "id": "016NKhaqRmZx",
        "colab_type": "code",
        "colab": {
          "base_uri": "https://localhost:8080/",
          "height": 237
        },
        "outputId": "1860481e-c874-4111-b605-6a109ddc44c3"
      },
      "source": [
        "!pip install gplearn\n",
        "import pandas as pd\n",
        "import numpy as np\n",
        "import matplotlib.pyplot as plt\n",
        "import seaborn as sns\n",
        "import os\n",
        "import gplearn\n",
        "import statsmodels.api as sm"
      ],
      "execution_count": null,
      "outputs": [
        {
          "output_type": "stream",
          "text": [
            "Collecting gplearn\n",
            "\u001b[?25l  Downloading https://files.pythonhosted.org/packages/43/6b/ee38cd74b32ad5056603aabbef622f9691f19d0869574dfc610034f18662/gplearn-0.4.1-py3-none-any.whl (41kB)\n",
            "\r\u001b[K     |████████                        | 10kB 17.7MB/s eta 0:00:01\r\u001b[K     |███████████████▉                | 20kB 2.2MB/s eta 0:00:01\r\u001b[K     |███████████████████████▊        | 30kB 2.9MB/s eta 0:00:01\r\u001b[K     |███████████████████████████████▊| 40kB 3.2MB/s eta 0:00:01\r\u001b[K     |████████████████████████████████| 51kB 2.7MB/s \n",
            "\u001b[?25hRequirement already satisfied: scikit-learn>=0.20.0 in /usr/local/lib/python3.6/dist-packages (from gplearn) (0.22.2.post1)\n",
            "Requirement already satisfied: joblib>=0.13.0 in /usr/local/lib/python3.6/dist-packages (from gplearn) (0.15.1)\n",
            "Requirement already satisfied: scipy>=0.17.0 in /usr/local/lib/python3.6/dist-packages (from scikit-learn>=0.20.0->gplearn) (1.4.1)\n",
            "Requirement already satisfied: numpy>=1.11.0 in /usr/local/lib/python3.6/dist-packages (from scikit-learn>=0.20.0->gplearn) (1.18.4)\n",
            "Installing collected packages: gplearn\n",
            "Successfully installed gplearn-0.4.1\n"
          ],
          "name": "stdout"
        },
        {
          "output_type": "stream",
          "text": [
            "/usr/local/lib/python3.6/dist-packages/statsmodels/tools/_testing.py:19: FutureWarning: pandas.util.testing is deprecated. Use the functions in the public API at pandas.testing instead.\n",
            "  import pandas.util.testing as tm\n"
          ],
          "name": "stderr"
        }
      ]
    },
    {
      "cell_type": "code",
      "metadata": {
        "id": "kRBW72rYR5YR",
        "colab_type": "code",
        "colab": {
          "base_uri": "https://localhost:8080/",
          "height": 128
        },
        "outputId": "c5cbb80e-d0a7-4f8b-cc29-e1e675a2f460"
      },
      "source": [
        "#connect to google drive\n",
        "from google.colab import drive\n",
        "drive.mount('/content/gdrive')"
      ],
      "execution_count": null,
      "outputs": [
        {
          "output_type": "stream",
          "text": [
            "Go to this URL in a browser: https://accounts.google.com/o/oauth2/auth?client_id=947318989803-6bn6qk8qdgf4n4g3pfee6491hc0brc4i.apps.googleusercontent.com&redirect_uri=urn%3aietf%3awg%3aoauth%3a2.0%3aoob&response_type=code&scope=email%20https%3a%2f%2fwww.googleapis.com%2fauth%2fdocs.test%20https%3a%2f%2fwww.googleapis.com%2fauth%2fdrive%20https%3a%2f%2fwww.googleapis.com%2fauth%2fdrive.photos.readonly%20https%3a%2f%2fwww.googleapis.com%2fauth%2fpeopleapi.readonly\n",
            "\n",
            "Enter your authorization code:\n",
            "··········\n",
            "Mounted at /content/gdrive\n"
          ],
          "name": "stdout"
        }
      ]
    },
    {
      "cell_type": "markdown",
      "metadata": {
        "id": "M55zp54r5hqx",
        "colab_type": "text"
      },
      "source": [
        "Loading the data"
      ]
    },
    {
      "cell_type": "code",
      "metadata": {
        "id": "kPGYSFCdRmZ_",
        "colab_type": "code",
        "colab": {
          "base_uri": "https://localhost:8080/",
          "height": 126
        },
        "outputId": "b879738a-25e9-42c3-8eb9-5f27a8e5c122"
      },
      "source": [
        "#load the data\n",
        "data = pd.read_excel('/content/gdrive/My Drive/MMM/MARKETING DATA.xlsx')\n",
        "data.columns"
      ],
      "execution_count": null,
      "outputs": [
        {
          "output_type": "execute_result",
          "data": {
            "text/plain": [
              "Index(['time.index', 'tv.volume', 'tv.spend', 'search.clicks', 'search.imps',\n",
              "       'display.budget', 'search.budget', 'search.spend', 'total.spend',\n",
              "       'search.matching.query.volume', 'search.query.volume', 'brand.sales',\n",
              "       'competitor.sales', 'revenue', 'profit', 'tv.budget.index', 'tv.budget',\n",
              "       'search.budget.index', 'search.budget.1', 'Unnamed: 19'],\n",
              "      dtype='object')"
            ]
          },
          "metadata": {
            "tags": []
          },
          "execution_count": 3
        }
      ]
    },
    {
      "cell_type": "markdown",
      "metadata": {
        "id": "etvfxVXW5yCI",
        "colab_type": "text"
      },
      "source": [
        "Checking null values"
      ]
    },
    {
      "cell_type": "code",
      "metadata": {
        "id": "a9-75nyiRmaN",
        "colab_type": "code",
        "colab": {
          "base_uri": "https://localhost:8080/",
          "height": 399
        },
        "outputId": "3822cb5d-c67a-4e1b-a29a-8b8934172d83"
      },
      "source": [
        "#checking null values\n",
        "data.isnull().any()\n"
      ],
      "execution_count": null,
      "outputs": [
        {
          "output_type": "execute_result",
          "data": {
            "text/plain": [
              "time.index                      False\n",
              "tv.volume                       False\n",
              "tv.spend                        False\n",
              "search.clicks                   False\n",
              "search.imps                     False\n",
              "display.budget                  False\n",
              "search.budget                   False\n",
              "search.spend                    False\n",
              "total.spend                     False\n",
              "search.matching.query.volume    False\n",
              "search.query.volume             False\n",
              "brand.sales                     False\n",
              "competitor.sales                False\n",
              "revenue                         False\n",
              "profit                          False\n",
              "tv.budget.index                 False\n",
              "tv.budget                       False\n",
              "search.budget.index             False\n",
              "search.budget.1                 False\n",
              "Unnamed: 19                      True\n",
              "dtype: bool"
            ]
          },
          "metadata": {
            "tags": []
          },
          "execution_count": 4
        }
      ]
    },
    {
      "cell_type": "markdown",
      "metadata": {
        "id": "kFaoP_jj52il",
        "colab_type": "text"
      },
      "source": [
        "Checking zero values. Although there are a few columns with zeros, there are no zeros all those columns together, at the same time."
      ]
    },
    {
      "cell_type": "code",
      "metadata": {
        "id": "ramyNi8rRmaY",
        "colab_type": "code",
        "colab": {
          "base_uri": "https://localhost:8080/",
          "height": 399
        },
        "outputId": "6c1c8b00-5602-45ef-82c0-9d7109b60456"
      },
      "source": [
        "#checking zeros\n",
        "(data == 0).any()"
      ],
      "execution_count": null,
      "outputs": [
        {
          "output_type": "execute_result",
          "data": {
            "text/plain": [
              "time.index                      False\n",
              "tv.volume                        True\n",
              "tv.spend                         True\n",
              "search.clicks                    True\n",
              "search.imps                      True\n",
              "display.budget                   True\n",
              "search.budget                    True\n",
              "search.spend                     True\n",
              "total.spend                      True\n",
              "search.matching.query.volume    False\n",
              "search.query.volume             False\n",
              "brand.sales                     False\n",
              "competitor.sales                False\n",
              "revenue                         False\n",
              "profit                          False\n",
              "tv.budget.index                 False\n",
              "tv.budget                       False\n",
              "search.budget.index             False\n",
              "search.budget.1                 False\n",
              "Unnamed: 19                     False\n",
              "dtype: bool"
            ]
          },
          "metadata": {
            "tags": []
          },
          "execution_count": 5
        }
      ]
    },
    {
      "cell_type": "code",
      "metadata": {
        "id": "mWdfAttFIiPr",
        "colab_type": "code",
        "colab": {
          "base_uri": "https://localhost:8080/",
          "height": 243
        },
        "outputId": "dc661470-e13f-456d-b9bc-cb101abf0526"
      },
      "source": [
        "data.head(5)"
      ],
      "execution_count": null,
      "outputs": [
        {
          "output_type": "execute_result",
          "data": {
            "text/html": [
              "<div>\n",
              "<style scoped>\n",
              "    .dataframe tbody tr th:only-of-type {\n",
              "        vertical-align: middle;\n",
              "    }\n",
              "\n",
              "    .dataframe tbody tr th {\n",
              "        vertical-align: top;\n",
              "    }\n",
              "\n",
              "    .dataframe thead th {\n",
              "        text-align: right;\n",
              "    }\n",
              "</style>\n",
              "<table border=\"1\" class=\"dataframe\">\n",
              "  <thead>\n",
              "    <tr style=\"text-align: right;\">\n",
              "      <th></th>\n",
              "      <th>time.index</th>\n",
              "      <th>tv.volume</th>\n",
              "      <th>tv.spend</th>\n",
              "      <th>search.clicks</th>\n",
              "      <th>search.imps</th>\n",
              "      <th>display.budget</th>\n",
              "      <th>search.budget</th>\n",
              "      <th>search.spend</th>\n",
              "      <th>total.spend</th>\n",
              "      <th>search.matching.query.volume</th>\n",
              "      <th>search.query.volume</th>\n",
              "      <th>brand.sales</th>\n",
              "      <th>competitor.sales</th>\n",
              "      <th>revenue</th>\n",
              "      <th>profit</th>\n",
              "      <th>tv.budget.index</th>\n",
              "      <th>tv.budget</th>\n",
              "      <th>search.budget.index</th>\n",
              "      <th>search.budget.1</th>\n",
              "      <th>Unnamed: 19</th>\n",
              "    </tr>\n",
              "  </thead>\n",
              "  <tbody>\n",
              "    <tr>\n",
              "      <th>0</th>\n",
              "      <td>1</td>\n",
              "      <td>0</td>\n",
              "      <td>0.000000e+00</td>\n",
              "      <td>0</td>\n",
              "      <td>0</td>\n",
              "      <td>0.00000</td>\n",
              "      <td>0.0</td>\n",
              "      <td>0.0</td>\n",
              "      <td>0.000000e+00</td>\n",
              "      <td>2178598</td>\n",
              "      <td>19358848</td>\n",
              "      <td>1652952</td>\n",
              "      <td>9189596</td>\n",
              "      <td>132236160</td>\n",
              "      <td>1.322362e+08</td>\n",
              "      <td>1</td>\n",
              "      <td>54500000</td>\n",
              "      <td>1</td>\n",
              "      <td>6000000</td>\n",
              "      <td>NaN</td>\n",
              "    </tr>\n",
              "    <tr>\n",
              "      <th>1</th>\n",
              "      <td>2</td>\n",
              "      <td>671176538</td>\n",
              "      <td>3.355871e+06</td>\n",
              "      <td>183899</td>\n",
              "      <td>2336393</td>\n",
              "      <td>110347.84139</td>\n",
              "      <td>91949.5</td>\n",
              "      <td>202288.9</td>\n",
              "      <td>3.558160e+06</td>\n",
              "      <td>2336393</td>\n",
              "      <td>20767242</td>\n",
              "      <td>1942495</td>\n",
              "      <td>9831554</td>\n",
              "      <td>155399600</td>\n",
              "      <td>1.518414e+08</td>\n",
              "      <td>1</td>\n",
              "      <td>54500000</td>\n",
              "      <td>1</td>\n",
              "      <td>6000000</td>\n",
              "      <td>NaN</td>\n",
              "    </tr>\n",
              "    <tr>\n",
              "      <th>2</th>\n",
              "      <td>3</td>\n",
              "      <td>0</td>\n",
              "      <td>0.000000e+00</td>\n",
              "      <td>162984</td>\n",
              "      <td>2092627</td>\n",
              "      <td>98834.77321</td>\n",
              "      <td>81492.0</td>\n",
              "      <td>179282.4</td>\n",
              "      <td>1.792824e+05</td>\n",
              "      <td>2092627</td>\n",
              "      <td>18589882</td>\n",
              "      <td>1579585</td>\n",
              "      <td>8777439</td>\n",
              "      <td>126366800</td>\n",
              "      <td>1.261875e+08</td>\n",
              "      <td>1</td>\n",
              "      <td>54500000</td>\n",
              "      <td>1</td>\n",
              "      <td>6000000</td>\n",
              "      <td>NaN</td>\n",
              "    </tr>\n",
              "    <tr>\n",
              "      <th>3</th>\n",
              "      <td>4</td>\n",
              "      <td>0</td>\n",
              "      <td>0.000000e+00</td>\n",
              "      <td>143584</td>\n",
              "      <td>1872071</td>\n",
              "      <td>88417.91333</td>\n",
              "      <td>71792.0</td>\n",
              "      <td>157942.4</td>\n",
              "      <td>1.579424e+05</td>\n",
              "      <td>1872071</td>\n",
              "      <td>16617808</td>\n",
              "      <td>1386392</td>\n",
              "      <td>7720425</td>\n",
              "      <td>110911360</td>\n",
              "      <td>1.107534e+08</td>\n",
              "      <td>1</td>\n",
              "      <td>54500000</td>\n",
              "      <td>1</td>\n",
              "      <td>6000000</td>\n",
              "      <td>NaN</td>\n",
              "    </tr>\n",
              "    <tr>\n",
              "      <th>4</th>\n",
              "      <td>5</td>\n",
              "      <td>0</td>\n",
              "      <td>0.000000e+00</td>\n",
              "      <td>137564</td>\n",
              "      <td>1804398</td>\n",
              "      <td>85221.71754</td>\n",
              "      <td>68782.0</td>\n",
              "      <td>151320.4</td>\n",
              "      <td>1.513204e+05</td>\n",
              "      <td>1804398</td>\n",
              "      <td>16047854</td>\n",
              "      <td>1333346</td>\n",
              "      <td>7412018</td>\n",
              "      <td>106667680</td>\n",
              "      <td>1.065164e+08</td>\n",
              "      <td>1</td>\n",
              "      <td>54500000</td>\n",
              "      <td>1</td>\n",
              "      <td>6000000</td>\n",
              "      <td>NaN</td>\n",
              "    </tr>\n",
              "  </tbody>\n",
              "</table>\n",
              "</div>"
            ],
            "text/plain": [
              "   time.index  tv.volume  ...  search.budget.1  Unnamed: 19\n",
              "0           1          0  ...          6000000          NaN\n",
              "1           2  671176538  ...          6000000          NaN\n",
              "2           3          0  ...          6000000          NaN\n",
              "3           4          0  ...          6000000          NaN\n",
              "4           5          0  ...          6000000          NaN\n",
              "\n",
              "[5 rows x 20 columns]"
            ]
          },
          "metadata": {
            "tags": []
          },
          "execution_count": 6
        }
      ]
    },
    {
      "cell_type": "markdown",
      "metadata": {
        "id": "C6h3yVf16URr",
        "colab_type": "text"
      },
      "source": [
        "Reviewing the data, we could see that the last 4 columns do not have any valuable information, they resemble a fixed GL account for budgeting purposes."
      ]
    },
    {
      "cell_type": "code",
      "metadata": {
        "id": "F-PWQEcaRmaq",
        "colab_type": "code",
        "colab": {}
      },
      "source": [
        "#dropping the last four coloumns since they are not informative, probably they budget GL account or similar.\n",
        "cols_to_drop = ['tv.budget.index', 'tv.budget','search.budget.index', 'search.budget.1']\n",
        "data.drop(cols_to_drop, axis = 1, inplace = True)"
      ],
      "execution_count": null,
      "outputs": []
    },
    {
      "cell_type": "markdown",
      "metadata": {
        "id": "jJPjY6Uz6vaL",
        "colab_type": "text"
      },
      "source": [
        "Since the numbers are too big and there are a few float data types, we are converting to integer to make it easier to work."
      ]
    },
    {
      "cell_type": "code",
      "metadata": {
        "id": "zfRAKFwTRmay",
        "colab_type": "code",
        "colab": {
          "base_uri": "https://localhost:8080/",
          "height": 243
        },
        "outputId": "d3232736-f7b3-409c-ce5a-8b03307076a7"
      },
      "source": [
        "#rounding the numbers\n",
        "data = round(data,)\n",
        "data['tv.spend'] = data['tv.spend'].astype(int)\n",
        "data['display.budget'] = data['display.budget'].astype(int)\n",
        "data['search.budget'] = data['search.budget'].astype(int)\n",
        "data['search.spend '] = data['search.spend'].astype(int)\n",
        "data['total.spend'] = data['total.spend'].astype(int)\n",
        "data['profit'] = data['profit'].astype(int)\n",
        "data.head()"
      ],
      "execution_count": null,
      "outputs": [
        {
          "output_type": "execute_result",
          "data": {
            "text/html": [
              "<div>\n",
              "<style scoped>\n",
              "    .dataframe tbody tr th:only-of-type {\n",
              "        vertical-align: middle;\n",
              "    }\n",
              "\n",
              "    .dataframe tbody tr th {\n",
              "        vertical-align: top;\n",
              "    }\n",
              "\n",
              "    .dataframe thead th {\n",
              "        text-align: right;\n",
              "    }\n",
              "</style>\n",
              "<table border=\"1\" class=\"dataframe\">\n",
              "  <thead>\n",
              "    <tr style=\"text-align: right;\">\n",
              "      <th></th>\n",
              "      <th>time.index</th>\n",
              "      <th>tv.volume</th>\n",
              "      <th>tv.spend</th>\n",
              "      <th>search.clicks</th>\n",
              "      <th>search.imps</th>\n",
              "      <th>display.budget</th>\n",
              "      <th>search.budget</th>\n",
              "      <th>search.spend</th>\n",
              "      <th>total.spend</th>\n",
              "      <th>search.matching.query.volume</th>\n",
              "      <th>search.query.volume</th>\n",
              "      <th>brand.sales</th>\n",
              "      <th>competitor.sales</th>\n",
              "      <th>revenue</th>\n",
              "      <th>profit</th>\n",
              "      <th>Unnamed: 19</th>\n",
              "      <th>search.spend</th>\n",
              "    </tr>\n",
              "  </thead>\n",
              "  <tbody>\n",
              "    <tr>\n",
              "      <th>0</th>\n",
              "      <td>1</td>\n",
              "      <td>0</td>\n",
              "      <td>0</td>\n",
              "      <td>0</td>\n",
              "      <td>0</td>\n",
              "      <td>0</td>\n",
              "      <td>0</td>\n",
              "      <td>0.0</td>\n",
              "      <td>0</td>\n",
              "      <td>2178598</td>\n",
              "      <td>19358848</td>\n",
              "      <td>1652952</td>\n",
              "      <td>9189596</td>\n",
              "      <td>132236160</td>\n",
              "      <td>132236160</td>\n",
              "      <td>NaN</td>\n",
              "      <td>0</td>\n",
              "    </tr>\n",
              "    <tr>\n",
              "      <th>1</th>\n",
              "      <td>2</td>\n",
              "      <td>671176538</td>\n",
              "      <td>3355871</td>\n",
              "      <td>183899</td>\n",
              "      <td>2336393</td>\n",
              "      <td>110348</td>\n",
              "      <td>91950</td>\n",
              "      <td>202289.0</td>\n",
              "      <td>3558160</td>\n",
              "      <td>2336393</td>\n",
              "      <td>20767242</td>\n",
              "      <td>1942495</td>\n",
              "      <td>9831554</td>\n",
              "      <td>155399600</td>\n",
              "      <td>151841440</td>\n",
              "      <td>NaN</td>\n",
              "      <td>202289</td>\n",
              "    </tr>\n",
              "    <tr>\n",
              "      <th>2</th>\n",
              "      <td>3</td>\n",
              "      <td>0</td>\n",
              "      <td>0</td>\n",
              "      <td>162984</td>\n",
              "      <td>2092627</td>\n",
              "      <td>98835</td>\n",
              "      <td>81492</td>\n",
              "      <td>179282.0</td>\n",
              "      <td>179282</td>\n",
              "      <td>2092627</td>\n",
              "      <td>18589882</td>\n",
              "      <td>1579585</td>\n",
              "      <td>8777439</td>\n",
              "      <td>126366800</td>\n",
              "      <td>126187518</td>\n",
              "      <td>NaN</td>\n",
              "      <td>179282</td>\n",
              "    </tr>\n",
              "    <tr>\n",
              "      <th>3</th>\n",
              "      <td>4</td>\n",
              "      <td>0</td>\n",
              "      <td>0</td>\n",
              "      <td>143584</td>\n",
              "      <td>1872071</td>\n",
              "      <td>88418</td>\n",
              "      <td>71792</td>\n",
              "      <td>157942.0</td>\n",
              "      <td>157942</td>\n",
              "      <td>1872071</td>\n",
              "      <td>16617808</td>\n",
              "      <td>1386392</td>\n",
              "      <td>7720425</td>\n",
              "      <td>110911360</td>\n",
              "      <td>110753418</td>\n",
              "      <td>NaN</td>\n",
              "      <td>157942</td>\n",
              "    </tr>\n",
              "    <tr>\n",
              "      <th>4</th>\n",
              "      <td>5</td>\n",
              "      <td>0</td>\n",
              "      <td>0</td>\n",
              "      <td>137564</td>\n",
              "      <td>1804398</td>\n",
              "      <td>85222</td>\n",
              "      <td>68782</td>\n",
              "      <td>151320.0</td>\n",
              "      <td>151320</td>\n",
              "      <td>1804398</td>\n",
              "      <td>16047854</td>\n",
              "      <td>1333346</td>\n",
              "      <td>7412018</td>\n",
              "      <td>106667680</td>\n",
              "      <td>106516360</td>\n",
              "      <td>NaN</td>\n",
              "      <td>151320</td>\n",
              "    </tr>\n",
              "  </tbody>\n",
              "</table>\n",
              "</div>"
            ],
            "text/plain": [
              "   time.index  tv.volume  tv.spend  ...     profit  Unnamed: 19  search.spend \n",
              "0           1          0         0  ...  132236160          NaN              0\n",
              "1           2  671176538   3355871  ...  151841440          NaN         202289\n",
              "2           3          0         0  ...  126187518          NaN         179282\n",
              "3           4          0         0  ...  110753418          NaN         157942\n",
              "4           5          0         0  ...  106516360          NaN         151320\n",
              "\n",
              "[5 rows x 17 columns]"
            ]
          },
          "metadata": {
            "tags": []
          },
          "execution_count": 8
        }
      ]
    },
    {
      "cell_type": "markdown",
      "metadata": {
        "id": "n8YelA6G67Ro",
        "colab_type": "text"
      },
      "source": [
        "Basic statistics to understand the data"
      ]
    },
    {
      "cell_type": "code",
      "metadata": {
        "id": "iGRQNlF2RmbH",
        "colab_type": "code",
        "colab": {
          "base_uri": "https://localhost:8080/",
          "height": 337
        },
        "outputId": "26278172-b8f8-43b6-d045-1d4df2fb9548"
      },
      "source": [
        "#statistics in thousandths for numerical variables\n",
        "round(data.describe()/1000)"
      ],
      "execution_count": null,
      "outputs": [
        {
          "output_type": "execute_result",
          "data": {
            "text/html": [
              "<div>\n",
              "<style scoped>\n",
              "    .dataframe tbody tr th:only-of-type {\n",
              "        vertical-align: middle;\n",
              "    }\n",
              "\n",
              "    .dataframe tbody tr th {\n",
              "        vertical-align: top;\n",
              "    }\n",
              "\n",
              "    .dataframe thead th {\n",
              "        text-align: right;\n",
              "    }\n",
              "</style>\n",
              "<table border=\"1\" class=\"dataframe\">\n",
              "  <thead>\n",
              "    <tr style=\"text-align: right;\">\n",
              "      <th></th>\n",
              "      <th>time.index</th>\n",
              "      <th>tv.volume</th>\n",
              "      <th>tv.spend</th>\n",
              "      <th>search.clicks</th>\n",
              "      <th>search.imps</th>\n",
              "      <th>display.budget</th>\n",
              "      <th>search.budget</th>\n",
              "      <th>search.spend</th>\n",
              "      <th>total.spend</th>\n",
              "      <th>search.matching.query.volume</th>\n",
              "      <th>search.query.volume</th>\n",
              "      <th>brand.sales</th>\n",
              "      <th>competitor.sales</th>\n",
              "      <th>revenue</th>\n",
              "      <th>profit</th>\n",
              "      <th>Unnamed: 19</th>\n",
              "      <th>search.spend</th>\n",
              "    </tr>\n",
              "  </thead>\n",
              "  <tbody>\n",
              "    <tr>\n",
              "      <th>count</th>\n",
              "      <td>0.0</td>\n",
              "      <td>0.0</td>\n",
              "      <td>0.0</td>\n",
              "      <td>0.0</td>\n",
              "      <td>0.0</td>\n",
              "      <td>0.0</td>\n",
              "      <td>0.0</td>\n",
              "      <td>0.0</td>\n",
              "      <td>0.0</td>\n",
              "      <td>0.0</td>\n",
              "      <td>0.0</td>\n",
              "      <td>0.0</td>\n",
              "      <td>0.0</td>\n",
              "      <td>0.0</td>\n",
              "      <td>0.0</td>\n",
              "      <td>0.0</td>\n",
              "      <td>0.0</td>\n",
              "    </tr>\n",
              "    <tr>\n",
              "      <th>mean</th>\n",
              "      <td>0.0</td>\n",
              "      <td>182210.0</td>\n",
              "      <td>911.0</td>\n",
              "      <td>266.0</td>\n",
              "      <td>3536.0</td>\n",
              "      <td>167.0</td>\n",
              "      <td>126.0</td>\n",
              "      <td>293.0</td>\n",
              "      <td>1204.0</td>\n",
              "      <td>4187.0</td>\n",
              "      <td>14798.0</td>\n",
              "      <td>1249.0</td>\n",
              "      <td>6713.0</td>\n",
              "      <td>99957.0</td>\n",
              "      <td>98753.0</td>\n",
              "      <td>642057.0</td>\n",
              "      <td>293.0</td>\n",
              "    </tr>\n",
              "    <tr>\n",
              "      <th>std</th>\n",
              "      <td>0.0</td>\n",
              "      <td>279310.0</td>\n",
              "      <td>1397.0</td>\n",
              "      <td>199.0</td>\n",
              "      <td>2551.0</td>\n",
              "      <td>121.0</td>\n",
              "      <td>99.0</td>\n",
              "      <td>219.0</td>\n",
              "      <td>1420.0</td>\n",
              "      <td>2256.0</td>\n",
              "      <td>3848.0</td>\n",
              "      <td>397.0</td>\n",
              "      <td>2078.0</td>\n",
              "      <td>31725.0</td>\n",
              "      <td>31306.0</td>\n",
              "      <td>NaN</td>\n",
              "      <td>219.0</td>\n",
              "    </tr>\n",
              "    <tr>\n",
              "      <th>min</th>\n",
              "      <td>0.0</td>\n",
              "      <td>0.0</td>\n",
              "      <td>0.0</td>\n",
              "      <td>0.0</td>\n",
              "      <td>0.0</td>\n",
              "      <td>0.0</td>\n",
              "      <td>0.0</td>\n",
              "      <td>0.0</td>\n",
              "      <td>0.0</td>\n",
              "      <td>976.0</td>\n",
              "      <td>8498.0</td>\n",
              "      <td>611.0</td>\n",
              "      <td>3284.0</td>\n",
              "      <td>48885.0</td>\n",
              "      <td>48885.0</td>\n",
              "      <td>642057.0</td>\n",
              "      <td>0.0</td>\n",
              "    </tr>\n",
              "    <tr>\n",
              "      <th>25%</th>\n",
              "      <td>0.0</td>\n",
              "      <td>0.0</td>\n",
              "      <td>0.0</td>\n",
              "      <td>108.0</td>\n",
              "      <td>1472.0</td>\n",
              "      <td>70.0</td>\n",
              "      <td>48.0</td>\n",
              "      <td>118.0</td>\n",
              "      <td>203.0</td>\n",
              "      <td>2214.0</td>\n",
              "      <td>11380.0</td>\n",
              "      <td>899.0</td>\n",
              "      <td>4884.0</td>\n",
              "      <td>71947.0</td>\n",
              "      <td>71118.0</td>\n",
              "      <td>642057.0</td>\n",
              "      <td>118.0</td>\n",
              "    </tr>\n",
              "    <tr>\n",
              "      <th>50%</th>\n",
              "      <td>0.0</td>\n",
              "      <td>0.0</td>\n",
              "      <td>0.0</td>\n",
              "      <td>256.0</td>\n",
              "      <td>3494.0</td>\n",
              "      <td>165.0</td>\n",
              "      <td>111.0</td>\n",
              "      <td>282.0</td>\n",
              "      <td>535.0</td>\n",
              "      <td>4100.0</td>\n",
              "      <td>14431.0</td>\n",
              "      <td>1197.0</td>\n",
              "      <td>6536.0</td>\n",
              "      <td>95729.0</td>\n",
              "      <td>95099.0</td>\n",
              "      <td>642057.0</td>\n",
              "      <td>282.0</td>\n",
              "    </tr>\n",
              "    <tr>\n",
              "      <th>75%</th>\n",
              "      <td>0.0</td>\n",
              "      <td>325772.0</td>\n",
              "      <td>1629.0</td>\n",
              "      <td>382.0</td>\n",
              "      <td>5199.0</td>\n",
              "      <td>246.0</td>\n",
              "      <td>182.0</td>\n",
              "      <td>420.0</td>\n",
              "      <td>2074.0</td>\n",
              "      <td>5581.0</td>\n",
              "      <td>18197.0</td>\n",
              "      <td>1591.0</td>\n",
              "      <td>8581.0</td>\n",
              "      <td>127276.0</td>\n",
              "      <td>126085.0</td>\n",
              "      <td>642057.0</td>\n",
              "      <td>420.0</td>\n",
              "    </tr>\n",
              "    <tr>\n",
              "      <th>max</th>\n",
              "      <td>0.0</td>\n",
              "      <td>1339682.0</td>\n",
              "      <td>6699.0</td>\n",
              "      <td>827.0</td>\n",
              "      <td>10332.0</td>\n",
              "      <td>488.0</td>\n",
              "      <td>422.0</td>\n",
              "      <td>910.0</td>\n",
              "      <td>6869.0</td>\n",
              "      <td>10332.0</td>\n",
              "      <td>22964.0</td>\n",
              "      <td>2148.0</td>\n",
              "      <td>11210.0</td>\n",
              "      <td>171813.0</td>\n",
              "      <td>169568.0</td>\n",
              "      <td>642057.0</td>\n",
              "      <td>910.0</td>\n",
              "    </tr>\n",
              "  </tbody>\n",
              "</table>\n",
              "</div>"
            ],
            "text/plain": [
              "       time.index  tv.volume  tv.spend  ...    profit  Unnamed: 19  search.spend \n",
              "count         0.0        0.0       0.0  ...       0.0          0.0            0.0\n",
              "mean          0.0   182210.0     911.0  ...   98753.0     642057.0          293.0\n",
              "std           0.0   279310.0    1397.0  ...   31306.0          NaN          219.0\n",
              "min           0.0        0.0       0.0  ...   48885.0     642057.0            0.0\n",
              "25%           0.0        0.0       0.0  ...   71118.0     642057.0          118.0\n",
              "50%           0.0        0.0       0.0  ...   95099.0     642057.0          282.0\n",
              "75%           0.0   325772.0    1629.0  ...  126085.0     642057.0          420.0\n",
              "max           0.0  1339682.0    6699.0  ...  169568.0     642057.0          910.0\n",
              "\n",
              "[8 rows x 17 columns]"
            ]
          },
          "metadata": {
            "tags": []
          },
          "execution_count": 9
        }
      ]
    },
    {
      "cell_type": "markdown",
      "metadata": {
        "id": "7fz847zw7BE9",
        "colab_type": "text"
      },
      "source": [
        "Plotting correlation between the variables to understand multi-collinearity and possible implications into modelling."
      ]
    },
    {
      "cell_type": "code",
      "metadata": {
        "id": "jynYDLwARmbQ",
        "colab_type": "code",
        "colab": {
          "base_uri": "https://localhost:8080/",
          "height": 511
        },
        "outputId": "9d5dc1b7-5c9c-408d-ee86-d898f3ec0832"
      },
      "source": [
        "#Correlation between the variables, many variables are correlated (such as revenue, profit, brand sales etc) and its important to exclude those from the mode\n",
        "corr = data.corr()\n",
        "\n",
        "plt.figure(figsize=(6,6))\n",
        "sns.heatmap(corr[(corr >= 0.1) | (corr <= -0.1)],\n",
        "           cmap = 'Blues', vmax = 0.6, vmin = -0.6, linewidths = 0.1,\n",
        "           annot = True, annot_kws = {\"size\":8}, square = True)"
      ],
      "execution_count": null,
      "outputs": [
        {
          "output_type": "execute_result",
          "data": {
            "text/plain": [
              "<matplotlib.axes._subplots.AxesSubplot at 0x7fcdf612fd68>"
            ]
          },
          "metadata": {
            "tags": []
          },
          "execution_count": 10
        },
        {
          "output_type": "display_data",
          "data": {
            "image/png": "[encoded data removed]",
            "text/plain": [
              "<Figure size 432x432 with 2 Axes>"
            ]
          },
          "metadata": {
            "tags": [],
            "needs_background": "light"
          }
        }
      ]
    },
    {
      "cell_type": "markdown",
      "metadata": {
        "id": "rd76f8G-7a-W",
        "colab_type": "text"
      },
      "source": [
        "Plotting scatter plot for marketing investment and revenue."
      ]
    },
    {
      "cell_type": "code",
      "metadata": {
        "id": "FcCC3rQERmbg",
        "colab_type": "code",
        "colab": {
          "base_uri": "https://localhost:8080/",
          "height": 851
        },
        "outputId": "6ff59f27-5469-4edb-ee12-8f389ff32e7c"
      },
      "source": [
        "#labels and features\n",
        "label = data['revenue']\n",
        "features = data[['display.budget','search.budget','tv.spend']]\n",
        "\n",
        "#scatter plot between revenue and marketing expenditures\n",
        "for x in features:\n",
        "    plt.plot(label, features[x], 'bo') \n",
        "    plt.title(\"revenue vs \" + x)\n",
        "    plt.xlabel(x)\n",
        "    plt.ylabel(\"revenue\")\n",
        "    plt.show()"
      ],
      "execution_count": null,
      "outputs": [
        {
          "output_type": "display_data",
          "data": {
            "image/png": "[encoded data removed]",
            "text/plain": [
              "<Figure size 432x288 with 1 Axes>"
            ]
          },
          "metadata": {
            "tags": [],
            "needs_background": "light"
          }
        },
        {
          "output_type": "display_data",
          "data": {
            "image/png": "[encoded data removed]",
            "text/plain": [
              "<Figure size 432x288 with 1 Axes>"
            ]
          },
          "metadata": {
            "tags": [],
            "needs_background": "light"
          }
        },
        {
          "output_type": "display_data",
          "data": {
            "image/png": "[encoded data removed]",
            "text/plain": [
              "<Figure size 432x288 with 1 Axes>"
            ]
          },
          "metadata": {
            "tags": [],
            "needs_background": "light"
          }
        }
      ]
    },
    {
      "cell_type": "markdown",
      "metadata": {
        "id": "dAOSrtjQ7mno",
        "colab_type": "text"
      },
      "source": [
        "Plotting histograms to understand distribution for 3 types of marketing investment."
      ]
    },
    {
      "cell_type": "code",
      "metadata": {
        "id": "4k6pGCJ5Rmbo",
        "colab_type": "code",
        "colab": {
          "base_uri": "https://localhost:8080/",
          "height": 822
        },
        "outputId": "018a6637-f974-4539-fb63-1b384c4740b9"
      },
      "source": [
        "#data distribution for marketing investment variables\n",
        "for x in features:\n",
        "    plt.hist(features[x], bins='auto')  \n",
        "    plt.title(x)\n",
        "    plt.show()"
      ],
      "execution_count": null,
      "outputs": [
        {
          "output_type": "display_data",
          "data": {
            "image/png": "[encoded data removed]",
            "text/plain": [
              "<Figure size 432x288 with 1 Axes>"
            ]
          },
          "metadata": {
            "tags": [],
            "needs_background": "light"
          }
        },
        {
          "output_type": "display_data",
          "data": {
            "image/png": "[encoded data removed]",
            "text/plain": [
              "<Figure size 432x288 with 1 Axes>"
            ]
          },
          "metadata": {
            "tags": [],
            "needs_background": "light"
          }
        },
        {
          "output_type": "display_data",
          "data": {
            "image/png": "[encoded data removed]",
            "text/plain": [
              "<Figure size 432x288 with 1 Axes>"
            ]
          },
          "metadata": {
            "tags": [],
            "needs_background": "light"
          }
        }
      ]
    },
    {
      "cell_type": "markdown",
      "metadata": {
        "id": "9W9SbEze71Zl",
        "colab_type": "text"
      },
      "source": [
        "Checking outliers since they impact the model, we see outliers in tv spend and search budget."
      ]
    },
    {
      "cell_type": "code",
      "metadata": {
        "id": "KIkVTJvXQSbH",
        "colab_type": "code",
        "colab": {
          "base_uri": "https://localhost:8080/",
          "height": 297
        },
        "outputId": "5daa499b-718a-4562-f766-36adb8575560"
      },
      "source": [
        "#Identify outliers in marketing expenditure\n",
        "import seaborn as sns\n",
        "sns.boxplot(x=data['tv.spend'])\n"
      ],
      "execution_count": null,
      "outputs": [
        {
          "output_type": "execute_result",
          "data": {
            "text/plain": [
              "<matplotlib.axes._subplots.AxesSubplot at 0x7fcdf08e6240>"
            ]
          },
          "metadata": {
            "tags": []
          },
          "execution_count": 13
        },
        {
          "output_type": "display_data",
          "data": {
            "image/png": "[encoded data removed]",
            "text/plain": [
              "<Figure size 432x288 with 1 Axes>"
            ]
          },
          "metadata": {
            "tags": [],
            "needs_background": "light"
          }
        }
      ]
    },
    {
      "cell_type": "code",
      "metadata": {
        "id": "jLxbbKTFREUB",
        "colab_type": "code",
        "colab": {
          "base_uri": "https://localhost:8080/",
          "height": 297
        },
        "outputId": "896b3284-23b5-4b2f-eaae-288343819251"
      },
      "source": [
        "sns.boxplot(x=data['search.budget'])"
      ],
      "execution_count": null,
      "outputs": [
        {
          "output_type": "execute_result",
          "data": {
            "text/plain": [
              "<matplotlib.axes._subplots.AxesSubplot at 0x7fcdf06cab70>"
            ]
          },
          "metadata": {
            "tags": []
          },
          "execution_count": 14
        },
        {
          "output_type": "display_data",
          "data": {
            "image/png": "[encoded data removed]",
            "text/plain": [
              "<Figure size 432x288 with 1 Axes>"
            ]
          },
          "metadata": {
            "tags": [],
            "needs_background": "light"
          }
        }
      ]
    },
    {
      "cell_type": "markdown",
      "metadata": {
        "id": "4SaO7wZWDDvt",
        "colab_type": "text"
      },
      "source": [
        "We tried removing outliers and although the model significantly improves after the removal, financials do not make sense due to the synthetic data. We decided to keep the outliers since the current model already shows high level of accuracy."
      ]
    },
    {
      "cell_type": "code",
      "metadata": {
        "id": "TLrbJBKeRmtf",
        "colab_type": "code",
        "colab": {}
      },
      "source": [
        "#Removing outliers for tv spend and search budget\n",
        "#P = np.percentile(data['tv.spend'], [5, 95])\n",
        "#P1 = np.percentile(data['search.budget'], [5, 95])\n",
        "#data = data[(data['tv.spend'] > P[0]) & (data['tv.spend'] < P[1])& (data['search.budget'] > P1[0]) & (data['search.budget'] < P1[1])]\n"
      ],
      "execution_count": null,
      "outputs": []
    },
    {
      "cell_type": "markdown",
      "metadata": {
        "id": "Ljw066BEPsGg",
        "colab_type": "text"
      },
      "source": [
        "Regression with one variable at a time to understand the relationship."
      ]
    },
    {
      "cell_type": "code",
      "metadata": {
        "id": "txHZhELgRmb_",
        "colab_type": "code",
        "colab": {
          "base_uri": "https://localhost:8080/",
          "height": 430
        },
        "outputId": "9b10246f-0280-4ab5-f50e-5f2a29f9192b"
      },
      "source": [
        "#Linear regression with only investment variable display budget\n",
        "X = data[['display.budget']]\n",
        "y = data[\"revenue\"].values\n",
        "\n",
        "# Note the difference in argument order\n",
        "model = sm.OLS(y, X).fit()\n",
        "predictions = model.predict(X) # make the predictions by the model\n",
        "\n",
        "# Print out the statistics\n",
        "model.summary()"
      ],
      "execution_count": null,
      "outputs": [
        {
          "output_type": "execute_result",
          "data": {
            "text/html": [
              "<table class=\"simpletable\">\n",
              "<caption>OLS Regression Results</caption>\n",
              "<tr>\n",
              "  <th>Dep. Variable:</th>            <td>y</td>        <th>  R-squared (uncentered):</th>      <td>   0.707</td>\n",
              "</tr>\n",
              "<tr>\n",
              "  <th>Model:</th>                   <td>OLS</td>       <th>  Adj. R-squared (uncentered):</th> <td>   0.705</td>\n",
              "</tr>\n",
              "<tr>\n",
              "  <th>Method:</th>             <td>Least Squares</td>  <th>  F-statistic:       </th>          <td>   499.1</td>\n",
              "</tr>\n",
              "<tr>\n",
              "  <th>Date:</th>             <td>Tue, 09 Jun 2020</td> <th>  Prob (F-statistic):</th>          <td>4.58e-57</td>\n",
              "</tr>\n",
              "<tr>\n",
              "  <th>Time:</th>                 <td>08:40:36</td>     <th>  Log-Likelihood:    </th>          <td> -4008.9</td>\n",
              "</tr>\n",
              "<tr>\n",
              "  <th>No. Observations:</th>      <td>   208</td>      <th>  AIC:               </th>          <td>   8020.</td>\n",
              "</tr>\n",
              "<tr>\n",
              "  <th>Df Residuals:</th>          <td>   207</td>      <th>  BIC:               </th>          <td>   8023.</td>\n",
              "</tr>\n",
              "<tr>\n",
              "  <th>Df Model:</th>              <td>     1</td>      <th>                     </th>              <td> </td>   \n",
              "</tr>\n",
              "<tr>\n",
              "  <th>Covariance Type:</th>      <td>nonrobust</td>    <th>                     </th>              <td> </td>   \n",
              "</tr>\n",
              "</table>\n",
              "<table class=\"simpletable\">\n",
              "<tr>\n",
              "         <td></td>           <th>coef</th>     <th>std err</th>      <th>t</th>      <th>P>|t|</th>  <th>[0.025</th>    <th>0.975]</th>  \n",
              "</tr>\n",
              "<tr>\n",
              "  <th>display.budget</th> <td>  428.3686</td> <td>   19.174</td> <td>   22.341</td> <td> 0.000</td> <td>  390.568</td> <td>  466.170</td>\n",
              "</tr>\n",
              "</table>\n",
              "<table class=\"simpletable\">\n",
              "<tr>\n",
              "  <th>Omnibus:</th>       <td>10.975</td> <th>  Durbin-Watson:     </th> <td>   0.466</td>\n",
              "</tr>\n",
              "<tr>\n",
              "  <th>Prob(Omnibus):</th> <td> 0.004</td> <th>  Jarque-Bera (JB):  </th> <td>   9.769</td>\n",
              "</tr>\n",
              "<tr>\n",
              "  <th>Skew:</th>          <td> 0.459</td> <th>  Prob(JB):          </th> <td> 0.00756</td>\n",
              "</tr>\n",
              "<tr>\n",
              "  <th>Kurtosis:</th>      <td> 2.467</td> <th>  Cond. No.          </th> <td>    1.00</td>\n",
              "</tr>\n",
              "</table><br/><br/>Warnings:<br/>[1] Standard Errors assume that the covariance matrix of the errors is correctly specified."
            ],
            "text/plain": [
              "<class 'statsmodels.iolib.summary.Summary'>\n",
              "\"\"\"\n",
              "                                 OLS Regression Results                                \n",
              "=======================================================================================\n",
              "Dep. Variable:                      y   R-squared (uncentered):                   0.707\n",
              "Model:                            OLS   Adj. R-squared (uncentered):              0.705\n",
              "Method:                 Least Squares   F-statistic:                              499.1\n",
              "Date:                Tue, 09 Jun 2020   Prob (F-statistic):                    4.58e-57\n",
              "Time:                        08:40:36   Log-Likelihood:                         -4008.9\n",
              "No. Observations:                 208   AIC:                                      8020.\n",
              "Df Residuals:                     207   BIC:                                      8023.\n",
              "Df Model:                           1                                                  \n",
              "Covariance Type:            nonrobust                                                  \n",
              "==================================================================================\n",
              "                     coef    std err          t      P>|t|      [0.025      0.975]\n",
              "----------------------------------------------------------------------------------\n",
              "display.budget   428.3686     19.174     22.341      0.000     390.568     466.170\n",
              "==============================================================================\n",
              "Omnibus:                       10.975   Durbin-Watson:                   0.466\n",
              "Prob(Omnibus):                  0.004   Jarque-Bera (JB):                9.769\n",
              "Skew:                           0.459   Prob(JB):                      0.00756\n",
              "Kurtosis:                       2.467   Cond. No.                         1.00\n",
              "==============================================================================\n",
              "\n",
              "Warnings:\n",
              "[1] Standard Errors assume that the covariance matrix of the errors is correctly specified.\n",
              "\"\"\""
            ]
          },
          "metadata": {
            "tags": []
          },
          "execution_count": 16
        }
      ]
    },
    {
      "cell_type": "code",
      "metadata": {
        "id": "0H-bUVhxUo-p",
        "colab_type": "code",
        "colab": {
          "base_uri": "https://localhost:8080/",
          "height": 430
        },
        "outputId": "591db22d-9d4e-4ecc-d551-098377aa76ae"
      },
      "source": [
        "#Linear regression with only investment variable search budget\n",
        "X = data[['search.budget']]\n",
        "y = data[\"revenue\"].values\n",
        "\n",
        "# Note the difference in argument order\n",
        "model = sm.OLS(y, X).fit()\n",
        "predictions = model.predict(X) # make the predictions by the model\n",
        "\n",
        "# Print out the statistics\n",
        "model.summary()"
      ],
      "execution_count": null,
      "outputs": [
        {
          "output_type": "execute_result",
          "data": {
            "text/html": [
              "<table class=\"simpletable\">\n",
              "<caption>OLS Regression Results</caption>\n",
              "<tr>\n",
              "  <th>Dep. Variable:</th>            <td>y</td>        <th>  R-squared (uncentered):</th>      <td>   0.707</td>\n",
              "</tr>\n",
              "<tr>\n",
              "  <th>Model:</th>                   <td>OLS</td>       <th>  Adj. R-squared (uncentered):</th> <td>   0.705</td>\n",
              "</tr>\n",
              "<tr>\n",
              "  <th>Method:</th>             <td>Least Squares</td>  <th>  F-statistic:       </th>          <td>   498.8</td>\n",
              "</tr>\n",
              "<tr>\n",
              "  <th>Date:</th>             <td>Tue, 09 Jun 2020</td> <th>  Prob (F-statistic):</th>          <td>4.82e-57</td>\n",
              "</tr>\n",
              "<tr>\n",
              "  <th>Time:</th>                 <td>08:40:36</td>     <th>  Log-Likelihood:    </th>          <td> -4008.9</td>\n",
              "</tr>\n",
              "<tr>\n",
              "  <th>No. Observations:</th>      <td>   208</td>      <th>  AIC:               </th>          <td>   8020.</td>\n",
              "</tr>\n",
              "<tr>\n",
              "  <th>Df Residuals:</th>          <td>   207</td>      <th>  BIC:               </th>          <td>   8023.</td>\n",
              "</tr>\n",
              "<tr>\n",
              "  <th>Df Model:</th>              <td>     1</td>      <th>                     </th>              <td> </td>   \n",
              "</tr>\n",
              "<tr>\n",
              "  <th>Covariance Type:</th>      <td>nonrobust</td>    <th>                     </th>              <td> </td>   \n",
              "</tr>\n",
              "</table>\n",
              "<table class=\"simpletable\">\n",
              "<tr>\n",
              "        <td></td>           <th>coef</th>     <th>std err</th>      <th>t</th>      <th>P>|t|</th>  <th>[0.025</th>    <th>0.975]</th>  \n",
              "</tr>\n",
              "<tr>\n",
              "  <th>search.budget</th> <td>  551.7312</td> <td>   24.704</td> <td>   22.334</td> <td> 0.000</td> <td>  503.027</td> <td>  600.435</td>\n",
              "</tr>\n",
              "</table>\n",
              "<table class=\"simpletable\">\n",
              "<tr>\n",
              "  <th>Omnibus:</th>       <td> 4.736</td> <th>  Durbin-Watson:     </th> <td>   0.470</td>\n",
              "</tr>\n",
              "<tr>\n",
              "  <th>Prob(Omnibus):</th> <td> 0.094</td> <th>  Jarque-Bera (JB):  </th> <td>   4.785</td>\n",
              "</tr>\n",
              "<tr>\n",
              "  <th>Skew:</th>          <td> 0.344</td> <th>  Prob(JB):          </th> <td>  0.0914</td>\n",
              "</tr>\n",
              "<tr>\n",
              "  <th>Kurtosis:</th>      <td> 2.718</td> <th>  Cond. No.          </th> <td>    1.00</td>\n",
              "</tr>\n",
              "</table><br/><br/>Warnings:<br/>[1] Standard Errors assume that the covariance matrix of the errors is correctly specified."
            ],
            "text/plain": [
              "<class 'statsmodels.iolib.summary.Summary'>\n",
              "\"\"\"\n",
              "                                 OLS Regression Results                                \n",
              "=======================================================================================\n",
              "Dep. Variable:                      y   R-squared (uncentered):                   0.707\n",
              "Model:                            OLS   Adj. R-squared (uncentered):              0.705\n",
              "Method:                 Least Squares   F-statistic:                              498.8\n",
              "Date:                Tue, 09 Jun 2020   Prob (F-statistic):                    4.82e-57\n",
              "Time:                        08:40:36   Log-Likelihood:                         -4008.9\n",
              "No. Observations:                 208   AIC:                                      8020.\n",
              "Df Residuals:                     207   BIC:                                      8023.\n",
              "Df Model:                           1                                                  \n",
              "Covariance Type:            nonrobust                                                  \n",
              "=================================================================================\n",
              "                    coef    std err          t      P>|t|      [0.025      0.975]\n",
              "---------------------------------------------------------------------------------\n",
              "search.budget   551.7312     24.704     22.334      0.000     503.027     600.435\n",
              "==============================================================================\n",
              "Omnibus:                        4.736   Durbin-Watson:                   0.470\n",
              "Prob(Omnibus):                  0.094   Jarque-Bera (JB):                4.785\n",
              "Skew:                           0.344   Prob(JB):                       0.0914\n",
              "Kurtosis:                       2.718   Cond. No.                         1.00\n",
              "==============================================================================\n",
              "\n",
              "Warnings:\n",
              "[1] Standard Errors assume that the covariance matrix of the errors is correctly specified.\n",
              "\"\"\""
            ]
          },
          "metadata": {
            "tags": []
          },
          "execution_count": 17
        }
      ]
    },
    {
      "cell_type": "code",
      "metadata": {
        "id": "PutH8UnLhLdU",
        "colab_type": "code",
        "colab": {
          "base_uri": "https://localhost:8080/",
          "height": 430
        },
        "outputId": "8905da6b-b5e9-4aaf-b6e3-25b81d3b020e"
      },
      "source": [
        "#Linear regression with only investment variable tv spend\n",
        "X = data[['tv.spend']]\n",
        "y = data[\"revenue\"].values\n",
        "\n",
        "# Note the difference in argument order\n",
        "model = sm.OLS(y, X).fit()\n",
        "predictions = model.predict(X) # make the predictions by the model\n",
        "\n",
        "# Print out the statistics\n",
        "model.summary()"
      ],
      "execution_count": null,
      "outputs": [
        {
          "output_type": "execute_result",
          "data": {
            "text/html": [
              "<table class=\"simpletable\">\n",
              "<caption>OLS Regression Results</caption>\n",
              "<tr>\n",
              "  <th>Dep. Variable:</th>            <td>y</td>        <th>  R-squared (uncentered):</th>      <td>   0.343</td>\n",
              "</tr>\n",
              "<tr>\n",
              "  <th>Model:</th>                   <td>OLS</td>       <th>  Adj. R-squared (uncentered):</th> <td>   0.340</td>\n",
              "</tr>\n",
              "<tr>\n",
              "  <th>Method:</th>             <td>Least Squares</td>  <th>  F-statistic:       </th>          <td>   108.3</td>\n",
              "</tr>\n",
              "<tr>\n",
              "  <th>Date:</th>             <td>Tue, 09 Jun 2020</td> <th>  Prob (F-statistic):</th>          <td>1.16e-20</td>\n",
              "</tr>\n",
              "<tr>\n",
              "  <th>Time:</th>                 <td>08:40:36</td>     <th>  Log-Likelihood:    </th>          <td> -4092.7</td>\n",
              "</tr>\n",
              "<tr>\n",
              "  <th>No. Observations:</th>      <td>   208</td>      <th>  AIC:               </th>          <td>   8187.</td>\n",
              "</tr>\n",
              "<tr>\n",
              "  <th>Df Residuals:</th>          <td>   207</td>      <th>  BIC:               </th>          <td>   8191.</td>\n",
              "</tr>\n",
              "<tr>\n",
              "  <th>Df Model:</th>              <td>     1</td>      <th>                     </th>              <td> </td>   \n",
              "</tr>\n",
              "<tr>\n",
              "  <th>Covariance Type:</th>      <td>nonrobust</td>    <th>                     </th>              <td> </td>   \n",
              "</tr>\n",
              "</table>\n",
              "<table class=\"simpletable\">\n",
              "<tr>\n",
              "      <td></td>        <th>coef</th>     <th>std err</th>      <th>t</th>      <th>P>|t|</th>  <th>[0.025</th>    <th>0.975]</th>  \n",
              "</tr>\n",
              "<tr>\n",
              "  <th>tv.spend</th> <td>   36.9086</td> <td>    3.547</td> <td>   10.404</td> <td> 0.000</td> <td>   29.915</td> <td>   43.902</td>\n",
              "</tr>\n",
              "</table>\n",
              "<table class=\"simpletable\">\n",
              "<tr>\n",
              "  <th>Omnibus:</th>       <td>25.642</td> <th>  Durbin-Watson:     </th> <td>   0.868</td>\n",
              "</tr>\n",
              "<tr>\n",
              "  <th>Prob(Omnibus):</th> <td> 0.000</td> <th>  Jarque-Bera (JB):  </th> <td>  31.144</td>\n",
              "</tr>\n",
              "<tr>\n",
              "  <th>Skew:</th>          <td>-0.877</td> <th>  Prob(JB):          </th> <td>1.73e-07</td>\n",
              "</tr>\n",
              "<tr>\n",
              "  <th>Kurtosis:</th>      <td> 3.719</td> <th>  Cond. No.          </th> <td>    1.00</td>\n",
              "</tr>\n",
              "</table><br/><br/>Warnings:<br/>[1] Standard Errors assume that the covariance matrix of the errors is correctly specified."
            ],
            "text/plain": [
              "<class 'statsmodels.iolib.summary.Summary'>\n",
              "\"\"\"\n",
              "                                 OLS Regression Results                                \n",
              "=======================================================================================\n",
              "Dep. Variable:                      y   R-squared (uncentered):                   0.343\n",
              "Model:                            OLS   Adj. R-squared (uncentered):              0.340\n",
              "Method:                 Least Squares   F-statistic:                              108.3\n",
              "Date:                Tue, 09 Jun 2020   Prob (F-statistic):                    1.16e-20\n",
              "Time:                        08:40:36   Log-Likelihood:                         -4092.7\n",
              "No. Observations:                 208   AIC:                                      8187.\n",
              "Df Residuals:                     207   BIC:                                      8191.\n",
              "Df Model:                           1                                                  \n",
              "Covariance Type:            nonrobust                                                  \n",
              "==============================================================================\n",
              "                 coef    std err          t      P>|t|      [0.025      0.975]\n",
              "------------------------------------------------------------------------------\n",
              "tv.spend      36.9086      3.547     10.404      0.000      29.915      43.902\n",
              "==============================================================================\n",
              "Omnibus:                       25.642   Durbin-Watson:                   0.868\n",
              "Prob(Omnibus):                  0.000   Jarque-Bera (JB):               31.144\n",
              "Skew:                          -0.877   Prob(JB):                     1.73e-07\n",
              "Kurtosis:                       3.719   Cond. No.                         1.00\n",
              "==============================================================================\n",
              "\n",
              "Warnings:\n",
              "[1] Standard Errors assume that the covariance matrix of the errors is correctly specified.\n",
              "\"\"\""
            ]
          },
          "metadata": {
            "tags": []
          },
          "execution_count": 18
        }
      ]
    },
    {
      "cell_type": "markdown",
      "metadata": {
        "id": "i-lo6HINPxh9",
        "colab_type": "text"
      },
      "source": [
        "Regression with all 3 investment variables, with different confidence levels (high, medium, low)"
      ]
    },
    {
      "cell_type": "code",
      "metadata": {
        "id": "SuFxuftdRmcF",
        "colab_type": "code",
        "colab": {
          "base_uri": "https://localhost:8080/",
          "height": 473
        },
        "outputId": "cd981259-97be-434d-89af-136ed4d1acdf"
      },
      "source": [
        "#Regression with all three investments\n",
        "X = data[['tv.spend','search.budget','display.budget']]\n",
        "y = data[\"revenue\"].values\n",
        "\n",
        "# Note the difference in argument order\n",
        "model = sm.OLS(y, X).fit()\n",
        "predictions = model.predict(X) # make the predictions by the model\n",
        "\n",
        "# Print out the statistics\n",
        "model.summary()\n"
      ],
      "execution_count": null,
      "outputs": [
        {
          "output_type": "execute_result",
          "data": {
            "text/html": [
              "<table class=\"simpletable\">\n",
              "<caption>OLS Regression Results</caption>\n",
              "<tr>\n",
              "  <th>Dep. Variable:</th>            <td>y</td>        <th>  R-squared (uncentered):</th>      <td>   0.761</td>\n",
              "</tr>\n",
              "<tr>\n",
              "  <th>Model:</th>                   <td>OLS</td>       <th>  Adj. R-squared (uncentered):</th> <td>   0.757</td>\n",
              "</tr>\n",
              "<tr>\n",
              "  <th>Method:</th>             <td>Least Squares</td>  <th>  F-statistic:       </th>          <td>   217.5</td>\n",
              "</tr>\n",
              "<tr>\n",
              "  <th>Date:</th>             <td>Tue, 09 Jun 2020</td> <th>  Prob (F-statistic):</th>          <td>1.99e-63</td>\n",
              "</tr>\n",
              "<tr>\n",
              "  <th>Time:</th>                 <td>08:40:36</td>     <th>  Log-Likelihood:    </th>          <td> -3987.7</td>\n",
              "</tr>\n",
              "<tr>\n",
              "  <th>No. Observations:</th>      <td>   208</td>      <th>  AIC:               </th>          <td>   7981.</td>\n",
              "</tr>\n",
              "<tr>\n",
              "  <th>Df Residuals:</th>          <td>   205</td>      <th>  BIC:               </th>          <td>   7991.</td>\n",
              "</tr>\n",
              "<tr>\n",
              "  <th>Df Model:</th>              <td>     3</td>      <th>                     </th>              <td> </td>   \n",
              "</tr>\n",
              "<tr>\n",
              "  <th>Covariance Type:</th>      <td>nonrobust</td>    <th>                     </th>              <td> </td>   \n",
              "</tr>\n",
              "</table>\n",
              "<table class=\"simpletable\">\n",
              "<tr>\n",
              "         <td></td>           <th>coef</th>     <th>std err</th>      <th>t</th>      <th>P>|t|</th>  <th>[0.025</th>    <th>0.975]</th>  \n",
              "</tr>\n",
              "<tr>\n",
              "  <th>tv.spend</th>       <td>   16.2149</td> <td>    2.417</td> <td>    6.708</td> <td> 0.000</td> <td>   11.449</td> <td>   20.981</td>\n",
              "</tr>\n",
              "<tr>\n",
              "  <th>search.budget</th>  <td>  311.9624</td> <td>  231.080</td> <td>    1.350</td> <td> 0.178</td> <td> -143.636</td> <td>  767.561</td>\n",
              "</tr>\n",
              "<tr>\n",
              "  <th>display.budget</th> <td>  127.5573</td> <td>  179.851</td> <td>    0.709</td> <td> 0.479</td> <td> -227.037</td> <td>  482.152</td>\n",
              "</tr>\n",
              "</table>\n",
              "<table class=\"simpletable\">\n",
              "<tr>\n",
              "  <th>Omnibus:</th>       <td> 4.389</td> <th>  Durbin-Watson:     </th> <td>   0.814</td>\n",
              "</tr>\n",
              "<tr>\n",
              "  <th>Prob(Omnibus):</th> <td> 0.111</td> <th>  Jarque-Bera (JB):  </th> <td>   4.140</td>\n",
              "</tr>\n",
              "<tr>\n",
              "  <th>Skew:</th>          <td> 0.342</td> <th>  Prob(JB):          </th> <td>   0.126</td>\n",
              "</tr>\n",
              "<tr>\n",
              "  <th>Kurtosis:</th>      <td> 3.093</td> <th>  Cond. No.          </th> <td>    136.</td>\n",
              "</tr>\n",
              "</table><br/><br/>Warnings:<br/>[1] Standard Errors assume that the covariance matrix of the errors is correctly specified."
            ],
            "text/plain": [
              "<class 'statsmodels.iolib.summary.Summary'>\n",
              "\"\"\"\n",
              "                                 OLS Regression Results                                \n",
              "=======================================================================================\n",
              "Dep. Variable:                      y   R-squared (uncentered):                   0.761\n",
              "Model:                            OLS   Adj. R-squared (uncentered):              0.757\n",
              "Method:                 Least Squares   F-statistic:                              217.5\n",
              "Date:                Tue, 09 Jun 2020   Prob (F-statistic):                    1.99e-63\n",
              "Time:                        08:40:36   Log-Likelihood:                         -3987.7\n",
              "No. Observations:                 208   AIC:                                      7981.\n",
              "Df Residuals:                     205   BIC:                                      7991.\n",
              "Df Model:                           3                                                  \n",
              "Covariance Type:            nonrobust                                                  \n",
              "==================================================================================\n",
              "                     coef    std err          t      P>|t|      [0.025      0.975]\n",
              "----------------------------------------------------------------------------------\n",
              "tv.spend          16.2149      2.417      6.708      0.000      11.449      20.981\n",
              "search.budget    311.9624    231.080      1.350      0.178    -143.636     767.561\n",
              "display.budget   127.5573    179.851      0.709      0.479    -227.037     482.152\n",
              "==============================================================================\n",
              "Omnibus:                        4.389   Durbin-Watson:                   0.814\n",
              "Prob(Omnibus):                  0.111   Jarque-Bera (JB):                4.140\n",
              "Skew:                           0.342   Prob(JB):                        0.126\n",
              "Kurtosis:                       3.093   Cond. No.                         136.\n",
              "==============================================================================\n",
              "\n",
              "Warnings:\n",
              "[1] Standard Errors assume that the covariance matrix of the errors is correctly specified.\n",
              "\"\"\""
            ]
          },
          "metadata": {
            "tags": []
          },
          "execution_count": 19
        }
      ]
    },
    {
      "cell_type": "code",
      "metadata": {
        "id": "OfmpSAE7kOlH",
        "colab_type": "code",
        "colab": {
          "base_uri": "https://localhost:8080/",
          "height": 369
        },
        "outputId": "7687879d-b4ed-46cc-a784-47099af5dd00"
      },
      "source": [
        "#histogram of error\n",
        "plt.hist(predictions - y)"
      ],
      "execution_count": null,
      "outputs": [
        {
          "output_type": "execute_result",
          "data": {
            "text/plain": [
              "(array([ 6.,  3., 18., 18., 42., 54., 30., 28.,  6.,  3.]),\n",
              " array([-1.54844560e+08, -1.30110416e+08, -1.05376271e+08, -8.06421270e+07,\n",
              "        -5.59079827e+07, -3.11738383e+07, -6.43969400e+06,  1.82944503e+07,\n",
              "         4.30285947e+07,  6.77627390e+07,  9.24968833e+07]),\n",
              " <a list of 10 Patch objects>)"
            ]
          },
          "metadata": {
            "tags": []
          },
          "execution_count": 20
        },
        {
          "output_type": "display_data",
          "data": {
            "image/png": "[encoded data removed]",
            "text/plain": [
              "<Figure size 432x288 with 1 Axes>"
            ]
          },
          "metadata": {
            "tags": [],
            "needs_background": "light"
          }
        }
      ]
    },
    {
      "cell_type": "markdown",
      "metadata": {
        "id": "8s7uiWHuP20K",
        "colab_type": "text"
      },
      "source": [
        "Testing the regression to see the robustness of the model."
      ]
    },
    {
      "cell_type": "code",
      "metadata": {
        "id": "5VqYgljiRmcQ",
        "colab_type": "code",
        "colab": {
          "base_uri": "https://localhost:8080/",
          "height": 35
        },
        "outputId": "5477c57e-1c71-405a-be72-ff5be7249e8c"
      },
      "source": [
        "from sklearn.linear_model import LinearRegression\n",
        "from sklearn.model_selection import train_test_split\n",
        "from sklearn.metrics import mean_squared_error, r2_score\n",
        "\n",
        "data1 = data[['tv.spend','display.budget', 'search.budget']]\n",
        "X_train,X_test,y_train,y_test = train_test_split(data1,data[\"revenue\"].values,test_size=0.2,random_state = 1)\n",
        "#Train the model using the training sets\n",
        "regressor = LinearRegression()  \n",
        "regressor.fit(X_train, y_train) #training the algorithm\n",
        "#Predict Output\n",
        "predictions = regressor.predict(X_test)\n",
        "df_o1 = pd.DataFrame({'Actual': y_test, 'Predicted': predictions})\n",
        "rmse = mean_squared_error(y_test, predictions)\n",
        "r2 = r2_score(y_test, predictions)\n",
        "print(r2)\n",
        "\n"
      ],
      "execution_count": null,
      "outputs": [
        {
          "output_type": "stream",
          "text": [
            "0.6556324540454421\n"
          ],
          "name": "stdout"
        }
      ]
    },
    {
      "cell_type": "markdown",
      "metadata": {
        "id": "ncBZhhLYQC1y",
        "colab_type": "text"
      },
      "source": [
        "We tried genetic algorithm to create feature as an interaction of variables but it did not improve the model so we decided to keep the model simple and explainable."
      ]
    },
    {
      "cell_type": "code",
      "metadata": {
        "id": "elrJzMo_8959",
        "colab_type": "code",
        "colab": {
          "base_uri": "https://localhost:8080/",
          "height": 126
        },
        "outputId": "9cbf3c2a-0c48-4c5a-8f7e-9be40bb7b0a5"
      },
      "source": [
        "#Genetic algorithm for feature interaction\n",
        "!pip install gplearn\n",
        "from gplearn.genetic import SymbolicRegressor\n",
        "\n",
        "X_train,X_test,y_train,y_test = train_test_split(data1,data['revenue'],test_size=0.2,random_state = 1)\n",
        "\n",
        "est_gp = SymbolicRegressor(population_size=50,\n",
        "                           generations=5, stopping_criteria=0.01,\n",
        "                           p_crossover=0.7, p_subtree_mutation=0.1,\n",
        "                           p_hoist_mutation=0.05, p_point_mutation=0.1,\n",
        "                           max_samples=0.9, verbose=0,\n",
        "                           parsimony_coefficient=0.01, random_state=0, feature_names = X_train.columns)\n",
        "est_gp.fit(X_train, y_train)\n",
        "print(est_gp._program)\n",
        "\n"
      ],
      "execution_count": null,
      "outputs": [
        {
          "output_type": "stream",
          "text": [
            "Requirement already satisfied: gplearn in /usr/local/lib/python3.6/dist-packages (0.4.1)\n",
            "Requirement already satisfied: scikit-learn>=0.20.0 in /usr/local/lib/python3.6/dist-packages (from gplearn) (0.22.2.post1)\n",
            "Requirement already satisfied: joblib>=0.13.0 in /usr/local/lib/python3.6/dist-packages (from gplearn) (0.15.1)\n",
            "Requirement already satisfied: scipy>=0.17.0 in /usr/local/lib/python3.6/dist-packages (from scikit-learn>=0.20.0->gplearn) (1.4.1)\n",
            "Requirement already satisfied: numpy>=1.11.0 in /usr/local/lib/python3.6/dist-packages (from scikit-learn>=0.20.0->gplearn) (1.18.4)\n",
            "sub(sub(div(tv.spend, 0.079), sub(display.budget, div(tv.spend, 0.114))), sub(display.budget, div(tv.spend, 0.114)))\n"
          ],
          "name": "stdout"
        }
      ]
    },
    {
      "cell_type": "code",
      "metadata": {
        "id": "9Hcl2JXZh2ry",
        "colab_type": "code",
        "colab": {
          "base_uri": "https://localhost:8080/",
          "height": 533
        },
        "outputId": "8b246845-0d95-4e29-a9f7-b8cdc214a748"
      },
      "source": [
        "#Creating feature based on GA suggestion\n",
        "data1['GA']=30*data1['tv.spend']-2*data1['display.budget']\n",
        "data1"
      ],
      "execution_count": null,
      "outputs": [
        {
          "output_type": "stream",
          "text": [
            "/usr/local/lib/python3.6/dist-packages/ipykernel_launcher.py:2: SettingWithCopyWarning: \n",
            "A value is trying to be set on a copy of a slice from a DataFrame.\n",
            "Try using .loc[row_indexer,col_indexer] = value instead\n",
            "\n",
            "See the caveats in the documentation: https://pandas.pydata.org/pandas-docs/stable/user_guide/indexing.html#returning-a-view-versus-a-copy\n",
            "  \n"
          ],
          "name": "stderr"
        },
        {
          "output_type": "execute_result",
          "data": {
            "text/html": [
              "<div>\n",
              "<style scoped>\n",
              "    .dataframe tbody tr th:only-of-type {\n",
              "        vertical-align: middle;\n",
              "    }\n",
              "\n",
              "    .dataframe tbody tr th {\n",
              "        vertical-align: top;\n",
              "    }\n",
              "\n",
              "    .dataframe thead th {\n",
              "        text-align: right;\n",
              "    }\n",
              "</style>\n",
              "<table border=\"1\" class=\"dataframe\">\n",
              "  <thead>\n",
              "    <tr style=\"text-align: right;\">\n",
              "      <th></th>\n",
              "      <th>tv.spend</th>\n",
              "      <th>display.budget</th>\n",
              "      <th>search.budget</th>\n",
              "      <th>GA</th>\n",
              "    </tr>\n",
              "  </thead>\n",
              "  <tbody>\n",
              "    <tr>\n",
              "      <th>0</th>\n",
              "      <td>0</td>\n",
              "      <td>0</td>\n",
              "      <td>0</td>\n",
              "      <td>0</td>\n",
              "    </tr>\n",
              "    <tr>\n",
              "      <th>1</th>\n",
              "      <td>3355871</td>\n",
              "      <td>110348</td>\n",
              "      <td>91950</td>\n",
              "      <td>100455434</td>\n",
              "    </tr>\n",
              "    <tr>\n",
              "      <th>2</th>\n",
              "      <td>0</td>\n",
              "      <td>98835</td>\n",
              "      <td>81492</td>\n",
              "      <td>-197670</td>\n",
              "    </tr>\n",
              "    <tr>\n",
              "      <th>3</th>\n",
              "      <td>0</td>\n",
              "      <td>88418</td>\n",
              "      <td>71792</td>\n",
              "      <td>-176836</td>\n",
              "    </tr>\n",
              "    <tr>\n",
              "      <th>4</th>\n",
              "      <td>0</td>\n",
              "      <td>85222</td>\n",
              "      <td>68782</td>\n",
              "      <td>-170444</td>\n",
              "    </tr>\n",
              "    <tr>\n",
              "      <th>...</th>\n",
              "      <td>...</td>\n",
              "      <td>...</td>\n",
              "      <td>...</td>\n",
              "      <td>...</td>\n",
              "    </tr>\n",
              "    <tr>\n",
              "      <th>203</th>\n",
              "      <td>4933228</td>\n",
              "      <td>371939</td>\n",
              "      <td>298054</td>\n",
              "      <td>147252962</td>\n",
              "    </tr>\n",
              "    <tr>\n",
              "      <th>204</th>\n",
              "      <td>0</td>\n",
              "      <td>345031</td>\n",
              "      <td>267668</td>\n",
              "      <td>-690062</td>\n",
              "    </tr>\n",
              "    <tr>\n",
              "      <th>205</th>\n",
              "      <td>2095055</td>\n",
              "      <td>358304</td>\n",
              "      <td>285335</td>\n",
              "      <td>62135042</td>\n",
              "    </tr>\n",
              "    <tr>\n",
              "      <th>206</th>\n",
              "      <td>0</td>\n",
              "      <td>405802</td>\n",
              "      <td>336300</td>\n",
              "      <td>-811604</td>\n",
              "    </tr>\n",
              "    <tr>\n",
              "      <th>207</th>\n",
              "      <td>3459120</td>\n",
              "      <td>0</td>\n",
              "      <td>0</td>\n",
              "      <td>103773600</td>\n",
              "    </tr>\n",
              "  </tbody>\n",
              "</table>\n",
              "<p>208 rows × 4 columns</p>\n",
              "</div>"
            ],
            "text/plain": [
              "     tv.spend  display.budget  search.budget         GA\n",
              "0           0               0              0          0\n",
              "1     3355871          110348          91950  100455434\n",
              "2           0           98835          81492    -197670\n",
              "3           0           88418          71792    -176836\n",
              "4           0           85222          68782    -170444\n",
              "..        ...             ...            ...        ...\n",
              "203   4933228          371939         298054  147252962\n",
              "204         0          345031         267668    -690062\n",
              "205   2095055          358304         285335   62135042\n",
              "206         0          405802         336300    -811604\n",
              "207   3459120               0              0  103773600\n",
              "\n",
              "[208 rows x 4 columns]"
            ]
          },
          "metadata": {
            "tags": []
          },
          "execution_count": 24
        }
      ]
    },
    {
      "cell_type": "code",
      "metadata": {
        "id": "_QIcDp0bjVdE",
        "colab_type": "code",
        "colab": {
          "base_uri": "https://localhost:8080/",
          "height": 35
        },
        "outputId": "50140caf-161d-4e84-f7c2-5a49fdba330a"
      },
      "source": [
        "#Feature created by GA did not improve the model\n",
        "X_train,X_test,y_train,y_test = train_test_split(data1,data[\"revenue\"].values,test_size=0.2,random_state = 1)\n",
        "#Train the model using the training sets\n",
        "regressor = LinearRegression()  \n",
        "regressor.fit(X_train, y_train) #training the algorithm\n",
        "#Predict Output\n",
        "predictions = regressor.predict(X_test)\n",
        "df_o1 = pd.DataFrame({'Actual': y_test, 'Predicted': predictions})\n",
        "rmse = mean_squared_error(y_test, predictions)\n",
        "r2 = r2_score(y_test, predictions)\n",
        "print(r2)"
      ],
      "execution_count": null,
      "outputs": [
        {
          "output_type": "stream",
          "text": [
            "0.6556324540453256\n"
          ],
          "name": "stdout"
        }
      ]
    },
    {
      "cell_type": "markdown",
      "metadata": {
        "id": "7IaHo1ZZQZJS",
        "colab_type": "text"
      },
      "source": [
        "Splitting the data into different years since budgeting is done on a yearly basis."
      ]
    },
    {
      "cell_type": "code",
      "metadata": {
        "id": "kMGUnGAKC_FY",
        "colab_type": "code",
        "colab": {}
      },
      "source": [
        "year1=data.iloc[0:52]\n",
        "year2=data.iloc[52:104]\n",
        "year3=data.iloc[104:156]\n",
        "year4=data.iloc[156:208]\n"
      ],
      "execution_count": null,
      "outputs": []
    },
    {
      "cell_type": "code",
      "metadata": {
        "id": "__x3ZQ-DRTyW",
        "colab_type": "code",
        "colab": {
          "base_uri": "https://localhost:8080/",
          "height": 243
        },
        "outputId": "6114838e-03f1-43a7-ab6c-b2729dd8eb0c"
      },
      "source": [
        "\n",
        "data.loc[0:52,'year'] = 'year1'\n",
        "data.loc[52:104,'year'] = 'year2'\n",
        "data.loc[104:156,'year'] = 'year3'\n",
        "data.loc[156:208,'year'] = 'year4'\n",
        "data.head(5)"
      ],
      "execution_count": null,
      "outputs": [
        {
          "output_type": "execute_result",
          "data": {
            "text/html": [
              "<div>\n",
              "<style scoped>\n",
              "    .dataframe tbody tr th:only-of-type {\n",
              "        vertical-align: middle;\n",
              "    }\n",
              "\n",
              "    .dataframe tbody tr th {\n",
              "        vertical-align: top;\n",
              "    }\n",
              "\n",
              "    .dataframe thead th {\n",
              "        text-align: right;\n",
              "    }\n",
              "</style>\n",
              "<table border=\"1\" class=\"dataframe\">\n",
              "  <thead>\n",
              "    <tr style=\"text-align: right;\">\n",
              "      <th></th>\n",
              "      <th>time.index</th>\n",
              "      <th>tv.volume</th>\n",
              "      <th>tv.spend</th>\n",
              "      <th>search.clicks</th>\n",
              "      <th>search.imps</th>\n",
              "      <th>display.budget</th>\n",
              "      <th>search.budget</th>\n",
              "      <th>search.spend</th>\n",
              "      <th>total.spend</th>\n",
              "      <th>search.matching.query.volume</th>\n",
              "      <th>search.query.volume</th>\n",
              "      <th>brand.sales</th>\n",
              "      <th>competitor.sales</th>\n",
              "      <th>revenue</th>\n",
              "      <th>profit</th>\n",
              "      <th>Unnamed: 19</th>\n",
              "      <th>search.spend</th>\n",
              "      <th>year</th>\n",
              "    </tr>\n",
              "  </thead>\n",
              "  <tbody>\n",
              "    <tr>\n",
              "      <th>0</th>\n",
              "      <td>1</td>\n",
              "      <td>0</td>\n",
              "      <td>0</td>\n",
              "      <td>0</td>\n",
              "      <td>0</td>\n",
              "      <td>0</td>\n",
              "      <td>0</td>\n",
              "      <td>0.0</td>\n",
              "      <td>0</td>\n",
              "      <td>2178598</td>\n",
              "      <td>19358848</td>\n",
              "      <td>1652952</td>\n",
              "      <td>9189596</td>\n",
              "      <td>132236160</td>\n",
              "      <td>132236160</td>\n",
              "      <td>NaN</td>\n",
              "      <td>0</td>\n",
              "      <td>year1</td>\n",
              "    </tr>\n",
              "    <tr>\n",
              "      <th>1</th>\n",
              "      <td>2</td>\n",
              "      <td>671176538</td>\n",
              "      <td>3355871</td>\n",
              "      <td>183899</td>\n",
              "      <td>2336393</td>\n",
              "      <td>110348</td>\n",
              "      <td>91950</td>\n",
              "      <td>202289.0</td>\n",
              "      <td>3558160</td>\n",
              "      <td>2336393</td>\n",
              "      <td>20767242</td>\n",
              "      <td>1942495</td>\n",
              "      <td>9831554</td>\n",
              "      <td>155399600</td>\n",
              "      <td>151841440</td>\n",
              "      <td>NaN</td>\n",
              "      <td>202289</td>\n",
              "      <td>year1</td>\n",
              "    </tr>\n",
              "    <tr>\n",
              "      <th>2</th>\n",
              "      <td>3</td>\n",
              "      <td>0</td>\n",
              "      <td>0</td>\n",
              "      <td>162984</td>\n",
              "      <td>2092627</td>\n",
              "      <td>98835</td>\n",
              "      <td>81492</td>\n",
              "      <td>179282.0</td>\n",
              "      <td>179282</td>\n",
              "      <td>2092627</td>\n",
              "      <td>18589882</td>\n",
              "      <td>1579585</td>\n",
              "      <td>8777439</td>\n",
              "      <td>126366800</td>\n",
              "      <td>126187518</td>\n",
              "      <td>NaN</td>\n",
              "      <td>179282</td>\n",
              "      <td>year1</td>\n",
              "    </tr>\n",
              "    <tr>\n",
              "      <th>3</th>\n",
              "      <td>4</td>\n",
              "      <td>0</td>\n",
              "      <td>0</td>\n",
              "      <td>143584</td>\n",
              "      <td>1872071</td>\n",
              "      <td>88418</td>\n",
              "      <td>71792</td>\n",
              "      <td>157942.0</td>\n",
              "      <td>157942</td>\n",
              "      <td>1872071</td>\n",
              "      <td>16617808</td>\n",
              "      <td>1386392</td>\n",
              "      <td>7720425</td>\n",
              "      <td>110911360</td>\n",
              "      <td>110753418</td>\n",
              "      <td>NaN</td>\n",
              "      <td>157942</td>\n",
              "      <td>year1</td>\n",
              "    </tr>\n",
              "    <tr>\n",
              "      <th>4</th>\n",
              "      <td>5</td>\n",
              "      <td>0</td>\n",
              "      <td>0</td>\n",
              "      <td>137564</td>\n",
              "      <td>1804398</td>\n",
              "      <td>85222</td>\n",
              "      <td>68782</td>\n",
              "      <td>151320.0</td>\n",
              "      <td>151320</td>\n",
              "      <td>1804398</td>\n",
              "      <td>16047854</td>\n",
              "      <td>1333346</td>\n",
              "      <td>7412018</td>\n",
              "      <td>106667680</td>\n",
              "      <td>106516360</td>\n",
              "      <td>NaN</td>\n",
              "      <td>151320</td>\n",
              "      <td>year1</td>\n",
              "    </tr>\n",
              "  </tbody>\n",
              "</table>\n",
              "</div>"
            ],
            "text/plain": [
              "   time.index  tv.volume  tv.spend  ...  Unnamed: 19  search.spend    year\n",
              "0           1          0         0  ...          NaN              0  year1\n",
              "1           2  671176538   3355871  ...          NaN         202289  year1\n",
              "2           3          0         0  ...          NaN         179282  year1\n",
              "3           4          0         0  ...          NaN         157942  year1\n",
              "4           5          0         0  ...          NaN         151320  year1\n",
              "\n",
              "[5 rows x 18 columns]"
            ]
          },
          "metadata": {
            "tags": []
          },
          "execution_count": 27
        }
      ]
    },
    {
      "cell_type": "code",
      "metadata": {
        "id": "2HCis2PgBfgM",
        "colab_type": "code",
        "colab": {
          "base_uri": "https://localhost:8080/",
          "height": 290
        },
        "outputId": "ca7cb5e5-6670-423a-9ee0-5435fffe6d6e"
      },
      "source": [
        "# create a list including all the features related to marketing spend:\n",
        "spend = [\"tv.spend\", \"search.budget\", \"display.budget\"]\n",
        "\n",
        "# calculate weekly total spend for each type of budget\n",
        "data.groupby(\"time.index\").sum()[spend].plot(figsize=(15, 4))\n",
        "plt.show()\n"
      ],
      "execution_count": null,
      "outputs": [
        {
          "output_type": "display_data",
          "data": {
            "image/png": "[encoded data removed]",
            "text/plain": [
              "<Figure size 1080x288 with 1 Axes>"
            ]
          },
          "metadata": {
            "tags": [],
            "needs_background": "light"
          }
        }
      ]
    },
    {
      "cell_type": "code",
      "metadata": {
        "id": "ZGxSIW7aaNpz",
        "colab_type": "code",
        "colab": {
          "base_uri": "https://localhost:8080/",
          "height": 290
        },
        "outputId": "85584279-9aa7-4a2b-debe-52d407d9d064"
      },
      "source": [
        "# create a list including all the features related to marketing spend:\n",
        "spend = [\"tv.spend\", \"search.budget\", \"display.budget\"]\n",
        "\n",
        "# calculate weekly total spend for each type of budget\n",
        "data.groupby(\"year\").mean()[spend].plot(figsize=(15, 4))\n",
        "plt.show()\n"
      ],
      "execution_count": null,
      "outputs": [
        {
          "output_type": "display_data",
          "data": {
            "image/png": "[encoded data removed]",
            "text/plain": [
              "<Figure size 1080x288 with 1 Axes>"
            ]
          },
          "metadata": {
            "tags": [],
            "needs_background": "light"
          }
        }
      ]
    },
    {
      "cell_type": "code",
      "metadata": {
        "id": "dqvIYLmDCFdc",
        "colab_type": "code",
        "colab": {
          "base_uri": "https://localhost:8080/",
          "height": 290
        },
        "outputId": "3486ca95-3863-4a44-8df6-63eb445bab6d"
      },
      "source": [
        "# create a list including all the features related to marketing spend:\n",
        "spend_total = [\"total.spend\", \"revenue\"]\n",
        "\n",
        "# calculate weekly total spend for each type of budget\n",
        "data.groupby(\"time.index\").sum()[spend_total].plot(figsize=(15, 4))\n",
        "plt.show()"
      ],
      "execution_count": null,
      "outputs": [
        {
          "output_type": "display_data",
          "data": {
            "image/png": "[encoded data removed]",
            "text/plain": [
              "<Figure size 1080x288 with 1 Axes>"
            ]
          },
          "metadata": {
            "tags": [],
            "needs_background": "light"
          }
        }
      ]
    },
    {
      "cell_type": "markdown",
      "metadata": {
        "id": "Hzv3EV-SQjXs",
        "colab_type": "text"
      },
      "source": [
        "We calculated fiancials such as yeary revenue, current mix in investment, ROI per marketing activity to be able to compare with our recommendation."
      ]
    },
    {
      "cell_type": "code",
      "metadata": {
        "id": "vH3Q3PgZlr5y",
        "colab_type": "code",
        "colab": {
          "base_uri": "https://localhost:8080/",
          "height": 206
        },
        "outputId": "d04a91da-3f53-4ea2-8f76-84fdad0270f3"
      },
      "source": [
        "#Calculation of financials:ROI yearly and 4 year horizon\n",
        "spend2 = [\"tv.spend\", \"search.budget\", \"display.budget\",\"total.spend\",\"revenue\"]\n",
        "ROI = data.groupby(\"year\").sum()[spend2]\n",
        "ROI['tv_%']=ROI['tv.spend']/ROI['total.spend']*100\n",
        "ROI['search_%']=ROI['search.budget']/ROI['total.spend']*100\n",
        "ROI['display_%']=ROI['display.budget']/ROI['total.spend']*100\n",
        "ROI['rev_change']= ROI['revenue'].diff()\n",
        "ROI['ROI_tv']=(ROI['rev_change']-ROI['tv.spend'])/ROI['tv.spend']*100\n",
        "ROI['ROI_search']=(ROI['rev_change']-ROI['search.budget'])/ROI['search.budget']*100\n",
        "ROI['ROI_display']=(ROI['rev_change']-ROI['display.budget'])/ROI['display.budget']*100\n",
        "round(ROI)\n",
        "\n"
      ],
      "execution_count": null,
      "outputs": [
        {
          "output_type": "execute_result",
          "data": {
            "text/html": [
              "<div>\n",
              "<style scoped>\n",
              "    .dataframe tbody tr th:only-of-type {\n",
              "        vertical-align: middle;\n",
              "    }\n",
              "\n",
              "    .dataframe tbody tr th {\n",
              "        vertical-align: top;\n",
              "    }\n",
              "\n",
              "    .dataframe thead th {\n",
              "        text-align: right;\n",
              "    }\n",
              "</style>\n",
              "<table border=\"1\" class=\"dataframe\">\n",
              "  <thead>\n",
              "    <tr style=\"text-align: right;\">\n",
              "      <th></th>\n",
              "      <th>tv.spend</th>\n",
              "      <th>search.budget</th>\n",
              "      <th>display.budget</th>\n",
              "      <th>total.spend</th>\n",
              "      <th>revenue</th>\n",
              "      <th>tv_%</th>\n",
              "      <th>search_%</th>\n",
              "      <th>display_%</th>\n",
              "      <th>rev_change</th>\n",
              "      <th>ROI_tv</th>\n",
              "      <th>ROI_search</th>\n",
              "      <th>ROI_display</th>\n",
              "    </tr>\n",
              "    <tr>\n",
              "      <th>year</th>\n",
              "      <th></th>\n",
              "      <th></th>\n",
              "      <th></th>\n",
              "      <th></th>\n",
              "      <th></th>\n",
              "      <th></th>\n",
              "      <th></th>\n",
              "      <th></th>\n",
              "      <th></th>\n",
              "      <th></th>\n",
              "      <th></th>\n",
              "      <th></th>\n",
              "    </tr>\n",
              "  </thead>\n",
              "  <tbody>\n",
              "    <tr>\n",
              "      <th>year1</th>\n",
              "      <td>54499999</td>\n",
              "      <td>2524464</td>\n",
              "      <td>3377313</td>\n",
              "      <td>60380513</td>\n",
              "      <td>5081509360</td>\n",
              "      <td>90.0</td>\n",
              "      <td>4.0</td>\n",
              "      <td>6.0</td>\n",
              "      <td>NaN</td>\n",
              "      <td>NaN</td>\n",
              "      <td>NaN</td>\n",
              "      <td>NaN</td>\n",
              "    </tr>\n",
              "    <tr>\n",
              "      <th>year2</th>\n",
              "      <td>47500000</td>\n",
              "      <td>5248664</td>\n",
              "      <td>6948289</td>\n",
              "      <td>59676757</td>\n",
              "      <td>5164219360</td>\n",
              "      <td>80.0</td>\n",
              "      <td>9.0</td>\n",
              "      <td>12.0</td>\n",
              "      <td>82710000.0</td>\n",
              "      <td>74.0</td>\n",
              "      <td>1476.0</td>\n",
              "      <td>1090.0</td>\n",
              "    </tr>\n",
              "    <tr>\n",
              "      <th>year3</th>\n",
              "      <td>42000000</td>\n",
              "      <td>7841477</td>\n",
              "      <td>10419400</td>\n",
              "      <td>60247717</td>\n",
              "      <td>5222981360</td>\n",
              "      <td>70.0</td>\n",
              "      <td>13.0</td>\n",
              "      <td>17.0</td>\n",
              "      <td>58762000.0</td>\n",
              "      <td>40.0</td>\n",
              "      <td>649.0</td>\n",
              "      <td>464.0</td>\n",
              "    </tr>\n",
              "    <tr>\n",
              "      <th>year4</th>\n",
              "      <td>45499999</td>\n",
              "      <td>10554258</td>\n",
              "      <td>13994459</td>\n",
              "      <td>70041474</td>\n",
              "      <td>5322277520</td>\n",
              "      <td>65.0</td>\n",
              "      <td>15.0</td>\n",
              "      <td>20.0</td>\n",
              "      <td>99296160.0</td>\n",
              "      <td>118.0</td>\n",
              "      <td>841.0</td>\n",
              "      <td>610.0</td>\n",
              "    </tr>\n",
              "  </tbody>\n",
              "</table>\n",
              "</div>"
            ],
            "text/plain": [
              "       tv.spend  search.budget  display.budget  ...  ROI_tv  ROI_search  ROI_display\n",
              "year                                            ...                                 \n",
              "year1  54499999        2524464         3377313  ...     NaN         NaN          NaN\n",
              "year2  47500000        5248664         6948289  ...    74.0      1476.0       1090.0\n",
              "year3  42000000        7841477        10419400  ...    40.0       649.0        464.0\n",
              "year4  45499999       10554258        13994459  ...   118.0       841.0        610.0\n",
              "\n",
              "[4 rows x 12 columns]"
            ]
          },
          "metadata": {
            "tags": []
          },
          "execution_count": 33
        }
      ]
    },
    {
      "cell_type": "code",
      "metadata": {
        "id": "agP_goVLxqf9",
        "colab_type": "code",
        "colab": {
          "base_uri": "https://localhost:8080/",
          "height": 72
        },
        "outputId": "692f73f2-353d-43fa-ff02-15a068affb95"
      },
      "source": [
        "#3 year ROI for tv spend\n",
        "print('tv spend:',(ROI['revenue'][3]-ROI['revenue'][0]-ROI['tv.spend'][1:3].sum())/ROI['tv.spend'][1:3].sum()*100)\n",
        "print('search spend:',(ROI['revenue'][3]-ROI['revenue'][0]-ROI['display.budget'][1:3].sum())/ROI['display.budget'][1:3].sum()*100)\n",
        "print('display spend:',(ROI['revenue'][3]-ROI['revenue'][0]-ROI['search.budget'][1:3].sum())/ROI['search.budget'][1:3].sum()*100)"
      ],
      "execution_count": null,
      "outputs": [
        {
          "output_type": "stream",
          "text": [
            "tv spend: 169.01470391061451\n",
            "search spend: 1286.2993516293388\n",
            "display spend: 1739.309141131482\n"
          ],
          "name": "stdout"
        }
      ]
    },
    {
      "cell_type": "code",
      "metadata": {
        "id": "dx_G67a9yyv-",
        "colab_type": "code",
        "colab": {
          "base_uri": "https://localhost:8080/",
          "height": 72
        },
        "outputId": "403d546d-8d77-42fb-aad6-5020fc6474ad"
      },
      "source": [
        "#total mix of investment\n",
        "print('tv spend:', ROI['tv.spend'].sum()/ROI['total.spend'].sum()*100)\n",
        "print('search spend:',ROI['search.budget'].sum()/ROI['total.spend'].sum()*100)\n",
        "print('display spend:',ROI['display.budget'].sum()/ROI['total.spend'].sum()*100)"
      ],
      "execution_count": null,
      "outputs": [
        {
          "output_type": "stream",
          "text": [
            "tv spend: 75.69509760315725\n",
            "search spend: 10.453058891054186\n",
            "display spend: 13.876553661367716\n"
          ],
          "name": "stdout"
        }
      ]
    },
    {
      "cell_type": "markdown",
      "metadata": {
        "id": "Be0qohgoQyps",
        "colab_type": "text"
      },
      "source": [
        "We create different possibilities of mixes with starting point as the weighted average [58, 20, 22] of 4 years. Scenarios include 5pp fluctuations for each variable."
      ]
    },
    {
      "cell_type": "code",
      "metadata": {
        "id": "pv1WeXuWry_x",
        "colab_type": "code",
        "colab": {}
      },
      "source": [
        "#creating different mixes of investment : \n",
        "mix = [[58, 20, 22], [63, 20, 17], [68, 20,12],[53, 20, 27],[48, 20, 32],[63, 15, 22], [68, 10,22],[53, 25, 22],[48, 30, 22],\n",
        "       [58, 25,17],[58, 30,12],[58, 15,27],[58, 10,32],[53, 25,22],[48, 30,22],[63, 15,22],[68, 10,22],\n",
        "       [58, 15,27],[58, 10,32],[58, 25,17],[58, 30,12],[53, 20,27],[48, 20,32],[63, 20,17],[68, 20,12]]\n",
        "  \n",
        "# Create the pandas DataFrame \n",
        "df_mix = pd.DataFrame(mix, columns = ['tv_%', 'search_%','display_%']) \n",
        "df_mix = df_mix.drop_duplicates(subset=None, keep='first', inplace=False)"
      ],
      "execution_count": null,
      "outputs": []
    },
    {
      "cell_type": "markdown",
      "metadata": {
        "id": "dvk0QADXRHQs",
        "colab_type": "text"
      },
      "source": [
        "Allocating last year (year4) investment to different mixes applied."
      ]
    },
    {
      "cell_type": "code",
      "metadata": {
        "id": "ys_-WQ5_8PoX",
        "colab_type": "code",
        "colab": {
          "base_uri": "https://localhost:8080/",
          "height": 457
        },
        "outputId": "50458e6b-b123-4578-d4b8-7c187580cdcb"
      },
      "source": [
        "\n",
        "#If the budget remains the same as in year 4 70041474.0\n",
        "df_to_predict =df_mix*70041474/100/52\n",
        "df_to_predict.columns=['tv.spend','search.budget','display.budget']\n",
        "round(df_to_predict)\n",
        "\n"
      ],
      "execution_count": null,
      "outputs": [
        {
          "output_type": "execute_result",
          "data": {
            "text/html": [
              "<div>\n",
              "<style scoped>\n",
              "    .dataframe tbody tr th:only-of-type {\n",
              "        vertical-align: middle;\n",
              "    }\n",
              "\n",
              "    .dataframe tbody tr th {\n",
              "        vertical-align: top;\n",
              "    }\n",
              "\n",
              "    .dataframe thead th {\n",
              "        text-align: right;\n",
              "    }\n",
              "</style>\n",
              "<table border=\"1\" class=\"dataframe\">\n",
              "  <thead>\n",
              "    <tr style=\"text-align: right;\">\n",
              "      <th></th>\n",
              "      <th>tv.spend</th>\n",
              "      <th>search.budget</th>\n",
              "      <th>display.budget</th>\n",
              "    </tr>\n",
              "  </thead>\n",
              "  <tbody>\n",
              "    <tr>\n",
              "      <th>0</th>\n",
              "      <td>781232.0</td>\n",
              "      <td>269390.0</td>\n",
              "      <td>296329.0</td>\n",
              "    </tr>\n",
              "    <tr>\n",
              "      <th>1</th>\n",
              "      <td>848579.0</td>\n",
              "      <td>269390.0</td>\n",
              "      <td>228982.0</td>\n",
              "    </tr>\n",
              "    <tr>\n",
              "      <th>2</th>\n",
              "      <td>915927.0</td>\n",
              "      <td>269390.0</td>\n",
              "      <td>161634.0</td>\n",
              "    </tr>\n",
              "    <tr>\n",
              "      <th>3</th>\n",
              "      <td>713884.0</td>\n",
              "      <td>269390.0</td>\n",
              "      <td>363677.0</td>\n",
              "    </tr>\n",
              "    <tr>\n",
              "      <th>4</th>\n",
              "      <td>646537.0</td>\n",
              "      <td>269390.0</td>\n",
              "      <td>431024.0</td>\n",
              "    </tr>\n",
              "    <tr>\n",
              "      <th>5</th>\n",
              "      <td>848579.0</td>\n",
              "      <td>202043.0</td>\n",
              "      <td>296329.0</td>\n",
              "    </tr>\n",
              "    <tr>\n",
              "      <th>6</th>\n",
              "      <td>915927.0</td>\n",
              "      <td>134695.0</td>\n",
              "      <td>296329.0</td>\n",
              "    </tr>\n",
              "    <tr>\n",
              "      <th>7</th>\n",
              "      <td>713884.0</td>\n",
              "      <td>336738.0</td>\n",
              "      <td>296329.0</td>\n",
              "    </tr>\n",
              "    <tr>\n",
              "      <th>8</th>\n",
              "      <td>646537.0</td>\n",
              "      <td>404085.0</td>\n",
              "      <td>296329.0</td>\n",
              "    </tr>\n",
              "    <tr>\n",
              "      <th>9</th>\n",
              "      <td>781232.0</td>\n",
              "      <td>336738.0</td>\n",
              "      <td>228982.0</td>\n",
              "    </tr>\n",
              "    <tr>\n",
              "      <th>10</th>\n",
              "      <td>781232.0</td>\n",
              "      <td>404085.0</td>\n",
              "      <td>161634.0</td>\n",
              "    </tr>\n",
              "    <tr>\n",
              "      <th>11</th>\n",
              "      <td>781232.0</td>\n",
              "      <td>202043.0</td>\n",
              "      <td>363677.0</td>\n",
              "    </tr>\n",
              "    <tr>\n",
              "      <th>12</th>\n",
              "      <td>781232.0</td>\n",
              "      <td>134695.0</td>\n",
              "      <td>431024.0</td>\n",
              "    </tr>\n",
              "  </tbody>\n",
              "</table>\n",
              "</div>"
            ],
            "text/plain": [
              "    tv.spend  search.budget  display.budget\n",
              "0   781232.0       269390.0        296329.0\n",
              "1   848579.0       269390.0        228982.0\n",
              "2   915927.0       269390.0        161634.0\n",
              "3   713884.0       269390.0        363677.0\n",
              "4   646537.0       269390.0        431024.0\n",
              "5   848579.0       202043.0        296329.0\n",
              "6   915927.0       134695.0        296329.0\n",
              "7   713884.0       336738.0        296329.0\n",
              "8   646537.0       404085.0        296329.0\n",
              "9   781232.0       336738.0        228982.0\n",
              "10  781232.0       404085.0        161634.0\n",
              "11  781232.0       202043.0        363677.0\n",
              "12  781232.0       134695.0        431024.0"
            ]
          },
          "metadata": {
            "tags": []
          },
          "execution_count": 37
        }
      ]
    },
    {
      "cell_type": "markdown",
      "metadata": {
        "id": "AvBlrh1TRUXl",
        "colab_type": "text"
      },
      "source": [
        "Since we have 3 variables with different confidence levels in the model we decided to account for the risk involved in return. We randomly choose 10000 data points with the mean of coefficient of the variable in the model and standard deviation to have multiple outcomes of return with different mixes and calculate mean and the standard deviation."
      ]
    },
    {
      "cell_type": "code",
      "metadata": {
        "id": "bYfLZ7dXvEgS",
        "colab_type": "code",
        "colab": {}
      },
      "source": [
        "#np random 10000 data points with mean of coeffs and std deviation for all the 3 variables\n",
        "x_mean = 16.2149\n",
        "x_std = 2.417\n",
        "x = np.random.normal(loc=x_mean, scale=x_std, size=10000)\n",
        "y_mean = 127.5573\n",
        "y_std = 179.851\n",
        "y=np.random.normal(loc=y_mean, scale=y_std, size=10000)\n",
        "z_mean = 311.9624\n",
        "z_std = 231.080\n",
        "z=np.random.normal(loc=z_mean, scale=z_std, size=10000)"
      ],
      "execution_count": null,
      "outputs": []
    },
    {
      "cell_type": "code",
      "metadata": {
        "id": "0Y5JRwAEvJm2",
        "colab_type": "code",
        "colab": {}
      },
      "source": [
        "#trying all compbinations of mixes defined to predict sales\n",
        "from itertools import product\n",
        "#list(product(x,df_mix['tv_%']))\n",
        "#list(product(y,df_mix['search_%']))\n",
        "#list(product(z,df_mix['display_%']))\n",
        "l1 = [x[i] * df_to_predict['tv.spend'][0] + y[i] * df_to_predict['search.budget'][0] + z[i] * df_to_predict['display.budget'][0] for i in range(len(x))]\n",
        "\n",
        "u = []\n",
        "\n",
        "for j in range(len(df_to_predict)):\n",
        "  l1 = [x[i] * df_to_predict['tv.spend'][j] + y[i] * df_to_predict['search.budget'][j] + z[i] * df_to_predict['display.budget'][j] for i in range(len(x))]\n",
        "  u.append([np.mean(l1),np.std(l1)])\n",
        "\n",
        "#[i[0]*j/100 + i[1]*k/100+ i[2]*l/100 for i in mix for j in l1 for k in l2 for l in l3]\n",
        "#[x * y for x, df_to_predict['tv.spend'][0])]\n",
        "#[x * y for x, y in product(y,df_to_predict['search.budget'])]\n",
        "#[x * y for x, y in product(z,df_to_predict['display.budget'])]"
      ],
      "execution_count": null,
      "outputs": []
    },
    {
      "cell_type": "markdown",
      "metadata": {
        "id": "gnJgY6KvSxGH",
        "colab_type": "text"
      },
      "source": [
        "Mean and standard deviation of prediction for 13 possible mixes."
      ]
    },
    {
      "cell_type": "code",
      "metadata": {
        "id": "HAEy_kftHgit",
        "colab_type": "code",
        "colab": {
          "base_uri": "https://localhost:8080/",
          "height": 253
        },
        "outputId": "299ae98e-e9e6-474d-8e1a-b97355b85ea8"
      },
      "source": [
        "#range of predictions for 24 different mixes in terms of mean and standard deviation\n",
        "#u.sort()\n",
        "u"
      ],
      "execution_count": null,
      "outputs": [
        {
          "output_type": "execute_result",
          "data": {
            "text/plain": [
              "[[140164204.99459144, 84747628.88643391],\n",
              " [120189125.62178396, 72400675.3125059],\n",
              " [100214046.24897651, 61621908.80850083],\n",
              " [160139284.3673989, 98072259.55233555],\n",
              " [180114363.74020633, 112026248.09030573],\n",
              " [132550883.01840807, 78407412.77995004],\n",
              " [124937561.04222475, 73531189.76991223],\n",
              " [147777526.97077474, 92250477.16982615],\n",
              " [155390848.94695807, 100656307.24107224],\n",
              " [127802447.59796727, 81042530.54971439],\n",
              " [115440690.20134316, 82091213.74889031],\n",
              " [152525962.39121556, 92637864.32490775],\n",
              " [164887719.7878397, 103762862.68373309]]"
            ]
          },
          "metadata": {
            "tags": []
          },
          "execution_count": 41
        }
      ]
    },
    {
      "cell_type": "markdown",
      "metadata": {
        "id": "GV5IaHaKS7uZ",
        "colab_type": "text"
      },
      "source": [
        "Calculating sharpe ratio"
      ]
    },
    {
      "cell_type": "code",
      "metadata": {
        "id": "te4xuIVgC9py",
        "colab_type": "code",
        "colab": {}
      },
      "source": [
        "#sharpe ratio\n",
        "sharpe = [s[0]/s[1] for s in u ]\n",
        "sharpe_df=pd.DataFrame(sharpe)\n",
        "sharpe_df.columns = ['sharpe']\n"
      ],
      "execution_count": null,
      "outputs": []
    },
    {
      "cell_type": "markdown",
      "metadata": {
        "id": "NRHD65xHTKcK",
        "colab_type": "text"
      },
      "source": [
        "Spend optimization would be choosing high growth high sharpe ratio outcome, depending on the company profile. For example option 4 shows 75% increase in revenue while the risk associated is not too much."
      ]
    },
    {
      "cell_type": "code",
      "metadata": {
        "id": "LdAcdseokoTT",
        "colab_type": "code",
        "colab": {
          "base_uri": "https://localhost:8080/",
          "height": 426
        },
        "outputId": "f00f7e84-c12c-4e24-80bd-7df2bacb26ce"
      },
      "source": [
        "#Spend optimization would be choosing highest growth with lowest sharpe ratio or any other option depending on company risk profile\n",
        "df_predicted = pd.DataFrame(u)\n",
        "df_predicted.columns = ['mean','std_dev']\n",
        "df_concat = pd.concat([df_to_predict,df_predicted],axis=1)\n",
        "df_concat['rev_yearly']=df_concat['mean']*52\n",
        "df_concat['rev_growth']=df_concat['rev_yearly']/5322277520\n",
        "df_concat = pd.concat([df_concat,df_mix],axis=1)\n",
        "df_concat = pd.concat([df_concat,sharpe_df],axis=1)\n",
        "df_concat.sort_values('sharpe', ascending = False).head(12)"
      ],
      "execution_count": null,
      "outputs": [
        {
          "output_type": "execute_result",
          "data": {
            "text/html": [
              "<div>\n",
              "<style scoped>\n",
              "    .dataframe tbody tr th:only-of-type {\n",
              "        vertical-align: middle;\n",
              "    }\n",
              "\n",
              "    .dataframe tbody tr th {\n",
              "        vertical-align: top;\n",
              "    }\n",
              "\n",
              "    .dataframe thead th {\n",
              "        text-align: right;\n",
              "    }\n",
              "</style>\n",
              "<table border=\"1\" class=\"dataframe\">\n",
              "  <thead>\n",
              "    <tr style=\"text-align: right;\">\n",
              "      <th></th>\n",
              "      <th>tv.spend</th>\n",
              "      <th>search.budget</th>\n",
              "      <th>display.budget</th>\n",
              "      <th>mean</th>\n",
              "      <th>std_dev</th>\n",
              "      <th>rev_yearly</th>\n",
              "      <th>rev_growth</th>\n",
              "      <th>tv_%</th>\n",
              "      <th>search_%</th>\n",
              "      <th>display_%</th>\n",
              "      <th>sharpe</th>\n",
              "    </tr>\n",
              "  </thead>\n",
              "  <tbody>\n",
              "    <tr>\n",
              "      <th>6</th>\n",
              "      <td>915926.967692</td>\n",
              "      <td>134695.142308</td>\n",
              "      <td>296329.313077</td>\n",
              "      <td>1.249376e+08</td>\n",
              "      <td>7.353119e+07</td>\n",
              "      <td>6.496753e+09</td>\n",
              "      <td>1.220672</td>\n",
              "      <td>68</td>\n",
              "      <td>10</td>\n",
              "      <td>22</td>\n",
              "      <td>1.699110</td>\n",
              "    </tr>\n",
              "    <tr>\n",
              "      <th>5</th>\n",
              "      <td>848579.396538</td>\n",
              "      <td>202042.713462</td>\n",
              "      <td>296329.313077</td>\n",
              "      <td>1.325509e+08</td>\n",
              "      <td>7.840741e+07</td>\n",
              "      <td>6.892646e+09</td>\n",
              "      <td>1.295056</td>\n",
              "      <td>63</td>\n",
              "      <td>15</td>\n",
              "      <td>22</td>\n",
              "      <td>1.690540</td>\n",
              "    </tr>\n",
              "    <tr>\n",
              "      <th>1</th>\n",
              "      <td>848579.396538</td>\n",
              "      <td>269390.284615</td>\n",
              "      <td>228981.741923</td>\n",
              "      <td>1.201891e+08</td>\n",
              "      <td>7.240068e+07</td>\n",
              "      <td>6.249835e+09</td>\n",
              "      <td>1.174278</td>\n",
              "      <td>63</td>\n",
              "      <td>20</td>\n",
              "      <td>17</td>\n",
              "      <td>1.660055</td>\n",
              "    </tr>\n",
              "    <tr>\n",
              "      <th>0</th>\n",
              "      <td>781231.825385</td>\n",
              "      <td>269390.284615</td>\n",
              "      <td>296329.313077</td>\n",
              "      <td>1.401642e+08</td>\n",
              "      <td>8.474763e+07</td>\n",
              "      <td>7.288539e+09</td>\n",
              "      <td>1.369440</td>\n",
              "      <td>58</td>\n",
              "      <td>20</td>\n",
              "      <td>22</td>\n",
              "      <td>1.653901</td>\n",
              "    </tr>\n",
              "    <tr>\n",
              "      <th>11</th>\n",
              "      <td>781231.825385</td>\n",
              "      <td>202042.713462</td>\n",
              "      <td>363676.884231</td>\n",
              "      <td>1.525260e+08</td>\n",
              "      <td>9.263786e+07</td>\n",
              "      <td>7.931350e+09</td>\n",
              "      <td>1.490217</td>\n",
              "      <td>58</td>\n",
              "      <td>15</td>\n",
              "      <td>27</td>\n",
              "      <td>1.646475</td>\n",
              "    </tr>\n",
              "    <tr>\n",
              "      <th>3</th>\n",
              "      <td>713884.254231</td>\n",
              "      <td>269390.284615</td>\n",
              "      <td>363676.884231</td>\n",
              "      <td>1.601393e+08</td>\n",
              "      <td>9.807226e+07</td>\n",
              "      <td>8.327243e+09</td>\n",
              "      <td>1.564601</td>\n",
              "      <td>53</td>\n",
              "      <td>20</td>\n",
              "      <td>27</td>\n",
              "      <td>1.632870</td>\n",
              "    </tr>\n",
              "    <tr>\n",
              "      <th>2</th>\n",
              "      <td>915926.967692</td>\n",
              "      <td>269390.284615</td>\n",
              "      <td>161634.170769</td>\n",
              "      <td>1.002140e+08</td>\n",
              "      <td>6.162191e+07</td>\n",
              "      <td>5.211130e+09</td>\n",
              "      <td>0.979117</td>\n",
              "      <td>68</td>\n",
              "      <td>20</td>\n",
              "      <td>12</td>\n",
              "      <td>1.626273</td>\n",
              "    </tr>\n",
              "    <tr>\n",
              "      <th>4</th>\n",
              "      <td>646536.683077</td>\n",
              "      <td>269390.284615</td>\n",
              "      <td>431024.455385</td>\n",
              "      <td>1.801144e+08</td>\n",
              "      <td>1.120262e+08</td>\n",
              "      <td>9.365947e+09</td>\n",
              "      <td>1.759763</td>\n",
              "      <td>48</td>\n",
              "      <td>20</td>\n",
              "      <td>32</td>\n",
              "      <td>1.607787</td>\n",
              "    </tr>\n",
              "    <tr>\n",
              "      <th>7</th>\n",
              "      <td>713884.254231</td>\n",
              "      <td>336737.855769</td>\n",
              "      <td>296329.313077</td>\n",
              "      <td>1.477775e+08</td>\n",
              "      <td>9.225048e+07</td>\n",
              "      <td>7.684431e+09</td>\n",
              "      <td>1.443824</td>\n",
              "      <td>53</td>\n",
              "      <td>25</td>\n",
              "      <td>22</td>\n",
              "      <td>1.601916</td>\n",
              "    </tr>\n",
              "    <tr>\n",
              "      <th>12</th>\n",
              "      <td>781231.825385</td>\n",
              "      <td>134695.142308</td>\n",
              "      <td>431024.455385</td>\n",
              "      <td>1.648877e+08</td>\n",
              "      <td>1.037629e+08</td>\n",
              "      <td>8.574161e+09</td>\n",
              "      <td>1.610995</td>\n",
              "      <td>58</td>\n",
              "      <td>10</td>\n",
              "      <td>32</td>\n",
              "      <td>1.589082</td>\n",
              "    </tr>\n",
              "    <tr>\n",
              "      <th>9</th>\n",
              "      <td>781231.825385</td>\n",
              "      <td>336737.855769</td>\n",
              "      <td>228981.741923</td>\n",
              "      <td>1.278024e+08</td>\n",
              "      <td>8.104253e+07</td>\n",
              "      <td>6.645727e+09</td>\n",
              "      <td>1.248662</td>\n",
              "      <td>58</td>\n",
              "      <td>25</td>\n",
              "      <td>17</td>\n",
              "      <td>1.576980</td>\n",
              "    </tr>\n",
              "    <tr>\n",
              "      <th>8</th>\n",
              "      <td>646536.683077</td>\n",
              "      <td>404085.426923</td>\n",
              "      <td>296329.313077</td>\n",
              "      <td>1.553908e+08</td>\n",
              "      <td>1.006563e+08</td>\n",
              "      <td>8.080324e+09</td>\n",
              "      <td>1.518208</td>\n",
              "      <td>48</td>\n",
              "      <td>30</td>\n",
              "      <td>22</td>\n",
              "      <td>1.543777</td>\n",
              "    </tr>\n",
              "  </tbody>\n",
              "</table>\n",
              "</div>"
            ],
            "text/plain": [
              "         tv.spend  search.budget  display.budget  ...  search_%  display_%    sharpe\n",
              "6   915926.967692  134695.142308   296329.313077  ...        10         22  1.699110\n",
              "5   848579.396538  202042.713462   296329.313077  ...        15         22  1.690540\n",
              "1   848579.396538  269390.284615   228981.741923  ...        20         17  1.660055\n",
              "0   781231.825385  269390.284615   296329.313077  ...        20         22  1.653901\n",
              "11  781231.825385  202042.713462   363676.884231  ...        15         27  1.646475\n",
              "3   713884.254231  269390.284615   363676.884231  ...        20         27  1.632870\n",
              "2   915926.967692  269390.284615   161634.170769  ...        20         12  1.626273\n",
              "4   646536.683077  269390.284615   431024.455385  ...        20         32  1.607787\n",
              "7   713884.254231  336737.855769   296329.313077  ...        25         22  1.601916\n",
              "12  781231.825385  134695.142308   431024.455385  ...        10         32  1.589082\n",
              "9   781231.825385  336737.855769   228981.741923  ...        25         17  1.576980\n",
              "8   646536.683077  404085.426923   296329.313077  ...        30         22  1.543777\n",
              "\n",
              "[12 rows x 11 columns]"
            ]
          },
          "metadata": {
            "tags": []
          },
          "execution_count": 43
        }
      ]
    },
    {
      "cell_type": "code",
      "metadata": {
        "id": "2oNst6PO-KNQ",
        "colab_type": "code",
        "colab": {
          "base_uri": "https://localhost:8080/",
          "height": 296
        },
        "outputId": "be20da9d-066e-4471-a22a-a109d4e00124"
      },
      "source": [
        "plt.hist(l1)\n",
        "np.mean(l1)/np.std(l1)\n",
        "np.std(l1)"
      ],
      "execution_count": null,
      "outputs": [
        {
          "output_type": "execute_result",
          "data": {
            "text/plain": [
              "103762862.68373309"
            ]
          },
          "metadata": {
            "tags": []
          },
          "execution_count": 44
        },
        {
          "output_type": "display_data",
          "data": {
            "image/png": "[encoded data removed]",
            "text/plain": [
              "<Figure size 432x288 with 1 Axes>"
            ]
          },
          "metadata": {
            "tags": [],
            "needs_background": "light"
          }
        }
      ]
    },
    {
      "cell_type": "code",
      "metadata": {
        "id": "FeoZnoLy4XFQ",
        "colab_type": "code",
        "colab": {}
      },
      "source": [
        ""
      ],
      "execution_count": null,
      "outputs": []
    }
  ]
}